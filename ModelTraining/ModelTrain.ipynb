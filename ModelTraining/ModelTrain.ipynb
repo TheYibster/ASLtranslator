{
 "cells": [
  {
   "cell_type": "markdown",
   "id": "e2f992d1",
   "metadata": {},
   "source": [
    "# Model Training"
   ]
  },
  {
   "cell_type": "markdown",
   "id": "164c5ec9",
   "metadata": {},
   "source": [
    "## i. Importing packages"
   ]
  },
  {
   "cell_type": "code",
   "execution_count": 30,
   "id": "c872ca1e",
   "metadata": {},
   "outputs": [
    {
     "name": "stdout",
     "output_type": "stream",
     "text": [
      "Import Successful\n"
     ]
    }
   ],
   "source": [
    "import numpy as np\n",
    "import pandas as pd\n",
    "import seaborn as sns\n",
    "import matplotlib.pyplot as plt\n",
    "import cv2\n",
    "import skimage\n",
    "from skimage.transform import resize\n",
    "from sklearn.ensemble import BaggingClassifier\n",
    "from sklearn.tree import DecisionTreeClassifier\n",
    "\n",
    "import tensorflow as tf\n",
    "from tensorflow import keras\n",
    "import os\n",
    "\n",
    "print(\"Import Successful\")"
   ]
  },
  {
   "cell_type": "markdown",
   "id": "fc188055",
   "metadata": {},
   "source": [
    "## ii. Loading dataset"
   ]
  },
  {
   "cell_type": "code",
   "execution_count": 59,
   "id": "6608900b",
   "metadata": {},
   "outputs": [],
   "source": [
    "img_size = 64\n",
    "target_dims = (img_size, img_size, 3)\n",
    "n_size = 29\n",
    "train_size = 87000\n",
    "\n",
    "# using os.path here since our os are mismatched\n",
    "nb_path = os.getcwd()\n",
    "train_dir = os.path.join(nb_path, 'asl_alphabet_train')\n",
    "\n",
    "def load_data(path):\n",
    "    x = np.empty((train_size, img_size, img_size, 3), dtype = np.float32)\n",
    "    Y = np.empty((train_size, ), dtype = int)\n",
    "    label_map = {'A': 0, 'B': 1, 'C': 2, 'D': 3, 'E': 4, 'F': 5, 'G': 6, 'H': 7, 'I': 8, 'J': 9, 'K': 10, 'L': 11, 'M': 12, 'N': 13, 'O': 14, 'P': 15, 'Q': 16, 'R': 17, 'S': 18, 'T': 19, 'U': 20, 'V': 21, 'W': 22, 'X': 23, 'Y': 24, 'Z': 25, 'del': 26, 'space': 27, 'nothing': 28}\n",
    "    count = 0\n",
    "    for folder in os.listdir(path):\n",
    "        if not folder.startswith('.'):\n",
    "            if folder in label_map:\n",
    "                label = label_map[folder]\n",
    "            else:\n",
    "                label = 29\n",
    "            for img_name in os.listdir(os.path.join(path, folder)):\n",
    "                img = cv2.imread(os.path.join(path, folder, img_name))\n",
    "                if img is not None:\n",
    "                    scale_factor = np.random.uniform(0.8, 1.2)\n",
    "                    zoomed_image = cv2.resize(img, None, fx=scale_factor, fy=scale_factor)\n",
    "                    alpha = np.random.uniform(0.8, 1.2)\n",
    "                    beta = np.random.uniform(-20, 20)\n",
    "                    brightness_contrast_image = cv2.convertScaleAbs(zoomed_image, alpha=alpha, beta=beta)\n",
    "                    img = skimage.transform.resize(brightness_contrast_image, (img_size, img_size, 3))\n",
    "                    img_arr = np.asarray(img).reshape((-1, img_size, img_size, 3))\n",
    "                    \n",
    "                    x[count] = img_arr\n",
    "                    Y[count] = label\n",
    "                    count += 1\n",
    "    return x, Y\n",
    "\n",
    "# Load in Data from directory\n",
    "x_train, Y_train = load_data(train_dir)"
   ]
  },
  {
   "cell_type": "markdown",
   "id": "6117373e",
   "metadata": {},
   "source": [
    "### Checking the data:"
   ]
  },
  {
   "cell_type": "code",
   "execution_count": 60,
   "id": "ce964c30",
   "metadata": {},
   "outputs": [
    {
     "name": "stdout",
     "output_type": "stream",
     "text": [
      "(87000, 64, 64, 3)\n",
      "(87000,)\n",
      "(64, 64, 3)\n"
     ]
    }
   ],
   "source": [
    "print(x_train.shape)\n",
    "print(Y_train.shape)\n",
    "print(x_train[12].shape)"
   ]
  },
  {
   "cell_type": "markdown",
   "id": "7e14c161",
   "metadata": {},
   "source": [
    "### View an image:"
   ]
  },
  {
   "cell_type": "code",
   "execution_count": 70,
   "id": "00a6063b",
   "metadata": {},
   "outputs": [
    {
     "data": {
      "text/plain": [
       "<function matplotlib.pyplot.show(close=None, block=None)>"
      ]
     },
     "execution_count": 70,
     "metadata": {},
     "output_type": "execute_result"
    },
    {
     "data": {
      "image/png": "[encoded data removed]",
      "text/plain": [
       "<Figure size 640x480 with 1 Axes>"
      ]
     },
     "metadata": {},
     "output_type": "display_data"
    }
   ],
   "source": [
    "plt.imshow(x_train[59999])\n",
    "plt.show\n"
   ]
  },
  {
   "cell_type": "markdown",
   "id": "5706404a",
   "metadata": {},
   "source": [
    "# 1. Data Processing"
   ]
  },
  {
   "cell_type": "markdown",
   "id": "011b776b",
   "metadata": {},
   "source": [
    "## Train/Test Split\n"
   ]
  },
  {
   "cell_type": "code",
   "execution_count": 71,
   "id": "c313821c",
   "metadata": {},
   "outputs": [],
   "source": [
    "from sklearn.model_selection import train_test_split\n",
    "\n",
    "# making copies of original data\n",
    "x_data = x_train\n",
    "Y_data = Y_train\n",
    "\n",
    "# spliting the data and stratfying on Y\n",
    "xtrain, xtest, ytrain, ytest = train_test_split(x_data, Y_data, test_size=0.25, random_state=42, stratify=Y_data)"
   ]
  },
  {
   "cell_type": "markdown",
   "id": "c1f7b40f",
   "metadata": {},
   "source": [
    "### Categorical data"
   ]
  },
  {
   "cell_type": "code",
   "execution_count": 72,
   "id": "acec4620",
   "metadata": {},
   "outputs": [],
   "source": [
    "# Create Matrix\n",
    "from tensorflow.keras.utils import to_categorical\n",
    "ycat_train = to_categorical(ytrain, 29)\n",
    "ycat_test = to_categorical(ytest, 29)"
   ]
  },
  {
   "cell_type": "markdown",
   "id": "6f8946b3",
   "metadata": {},
   "source": [
    "### Sanity Check"
   ]
  },
  {
   "cell_type": "code",
   "execution_count": 73,
   "id": "47992011",
   "metadata": {},
   "outputs": [
    {
     "name": "stdout",
     "output_type": "stream",
     "text": [
      "(65250, 64, 64, 3)\n",
      "(65250,)\n",
      "(21750, 64, 64, 3)\n",
      "[ 6  7 22 ...  7 28 13]\n",
      "(65250, 29)\n"
     ]
    }
   ],
   "source": [
    "# The dimensions should be correct\n",
    "print(xtrain.shape)\n",
    "print(ytrain.shape)\n",
    "print(xtest.shape)\n",
    "print(ytest)\n",
    "print(ycat_train.shape)"
   ]
  },
  {
   "cell_type": "markdown",
   "id": "9b60d980",
   "metadata": {},
   "source": [
    "# 2. Build a Sequential Model"
   ]
  },
  {
   "cell_type": "code",
   "execution_count": 74,
   "id": "ffee5b37",
   "metadata": {},
   "outputs": [],
   "source": [
    "# 3 layer model\n",
    "model = tf.keras.models.Sequential([\n",
    "    tf.keras.layers.Conv2D(32, (5, 5), activation=\"relu\", input_shape=(64, 64, 3)),\n",
    "    tf.keras.layers.MaxPooling2D(2, 2),\n",
    "    tf.keras.layers.Conv2D(64, (3, 3), activation=\"relu\"),\n",
    "    tf.keras.layers.MaxPooling2D(2, 2),\n",
    "    tf.keras.layers.Conv2D(128, (3, 3), activation=\"relu\"),\n",
    "    tf.keras.layers.MaxPooling2D(2, 2),\n",
    "    tf.keras.layers.Flatten(),\n",
    "    tf.keras.layers.Dropout(0.25),  # Add dropout layer with rate 0.25\n",
    "    tf.keras.layers.Dense(128, activation=\"relu\", kernel_regularizer=tf.keras.regularizers.l2(0.01)),  # Add L2 regularization\n",
    "    tf.keras.layers.Dense(29, activation=\"softmax\")\n",
    "])\n"
   ]
  },
  {
   "cell_type": "markdown",
   "id": "85c0535d",
   "metadata": {},
   "source": [
    "## Sanity Check Part 2"
   ]
  },
  {
   "cell_type": "code",
   "execution_count": 75,
   "id": "ee4db412",
   "metadata": {},
   "outputs": [
    {
     "name": "stdout",
     "output_type": "stream",
     "text": [
      "Model: \"sequential_2\"\n",
      "_________________________________________________________________\n",
      " Layer (type)                Output Shape              Param #   \n",
      "=================================================================\n",
      " conv2d_6 (Conv2D)           (None, 60, 60, 32)        2432      \n",
      "                                                                 \n",
      " max_pooling2d_6 (MaxPooling  (None, 30, 30, 32)       0         \n",
      " 2D)                                                             \n",
      "                                                                 \n",
      " conv2d_7 (Conv2D)           (None, 28, 28, 64)        18496     \n",
      "                                                                 \n",
      " max_pooling2d_7 (MaxPooling  (None, 14, 14, 64)       0         \n",
      " 2D)                                                             \n",
      "                                                                 \n",
      " conv2d_8 (Conv2D)           (None, 12, 12, 128)       73856     \n",
      "                                                                 \n",
      " max_pooling2d_8 (MaxPooling  (None, 6, 6, 128)        0         \n",
      " 2D)                                                             \n",
      "                                                                 \n",
      " flatten_2 (Flatten)         (None, 4608)              0         \n",
      "                                                                 \n",
      " dropout_1 (Dropout)         (None, 4608)              0         \n",
      "                                                                 \n",
      " dense_4 (Dense)             (None, 128)               589952    \n",
      "                                                                 \n",
      " dense_5 (Dense)             (None, 29)                3741      \n",
      "                                                                 \n",
      "=================================================================\n",
      "Total params: 688,477\n",
      "Trainable params: 688,477\n",
      "Non-trainable params: 0\n",
      "_________________________________________________________________\n"
     ]
    }
   ],
   "source": [
    "model.summary()"
   ]
  },
  {
   "cell_type": "markdown",
   "id": "39788b81",
   "metadata": {},
   "source": [
    "## Model Compile"
   ]
  },
  {
   "cell_type": "code",
   "execution_count": 76,
   "id": "18063c05",
   "metadata": {},
   "outputs": [],
   "source": [
    "model.compile(\n",
    "    loss = 'categorical_crossentropy',\n",
    "    optimizer = 'adam',\n",
    "    metrics = ['accuracy']\n",
    ")"
   ]
  },
  {
   "cell_type": "markdown",
   "id": "df6a123c",
   "metadata": {},
   "source": [
    "# 3. Model Fitting"
   ]
  },
  {
   "cell_type": "markdown",
   "id": "25bc7a45",
   "metadata": {},
   "source": [
    "## Import early stops"
   ]
  },
  {
   "cell_type": "code",
   "execution_count": 77,
   "id": "e0b5ec0f",
   "metadata": {},
   "outputs": [],
   "source": [
    "from tensorflow.keras.callbacks import EarlyStopping\n",
    "stop_the_train = EarlyStopping(monitor = 'val_loss', patience = 2)"
   ]
  },
  {
   "cell_type": "markdown",
   "id": "81b3a674",
   "metadata": {},
   "source": [
    "## Input data into model\n"
   ]
  },
  {
   "cell_type": "code",
   "execution_count": 78,
   "id": "9682fc29",
   "metadata": {},
   "outputs": [
    {
     "name": "stdout",
     "output_type": "stream",
     "text": [
      "Epoch 1/20\n",
      "1020/1020 - 128s - loss: 1.5718 - accuracy: 0.6615 - val_loss: 0.9076 - val_accuracy: 0.8581 - 128s/epoch - 126ms/step\n",
      "Epoch 2/20\n",
      "1020/1020 - 123s - loss: 0.7723 - accuracy: 0.8881 - val_loss: 0.6194 - val_accuracy: 0.9288 - 123s/epoch - 120ms/step\n",
      "Epoch 3/20\n",
      "1020/1020 - 120s - loss: 0.6535 - accuracy: 0.9186 - val_loss: 0.5840 - val_accuracy: 0.9375 - 120s/epoch - 118ms/step\n",
      "Epoch 4/20\n",
      "1020/1020 - 114s - loss: 0.5794 - accuracy: 0.9364 - val_loss: 0.4983 - val_accuracy: 0.9564 - 114s/epoch - 112ms/step\n",
      "Epoch 5/20\n",
      "1020/1020 - 113s - loss: 0.5348 - accuracy: 0.9461 - val_loss: 0.4476 - val_accuracy: 0.9699 - 113s/epoch - 110ms/step\n",
      "Epoch 6/20\n",
      "1020/1020 - 119s - loss: 0.5096 - accuracy: 0.9517 - val_loss: 0.4066 - val_accuracy: 0.9769 - 119s/epoch - 116ms/step\n",
      "Epoch 7/20\n",
      "1020/1020 - 110s - loss: 0.4838 - accuracy: 0.9571 - val_loss: 0.4458 - val_accuracy: 0.9770 - 110s/epoch - 108ms/step\n",
      "Epoch 8/20\n",
      "1020/1020 - 109s - loss: 0.4623 - accuracy: 0.9602 - val_loss: 0.4334 - val_accuracy: 0.9796 - 109s/epoch - 107ms/step\n"
     ]
    },
    {
     "data": {
      "text/plain": [
       "<keras.callbacks.History at 0x235ca791220>"
      ]
     },
     "execution_count": 78,
     "metadata": {},
     "output_type": "execute_result"
    }
   ],
   "source": [
    "# The part where the computer does all the work :)\n",
    "\n",
    "model.fit(\n",
    "    xtrain, ycat_train,\n",
    "    epochs=20,\n",
    "    batch_size=64,\n",
    "    verbose=2,\n",
    "    validation_data=(xtest, ycat_test),\n",
    "    callbacks=[stop_the_train]\n",
    ")"
   ]
  },
  {
   "cell_type": "markdown",
   "id": "49411a99",
   "metadata": {},
   "source": [
    "## Metrics\n",
    "\n"
   ]
  },
  {
   "cell_type": "code",
   "execution_count": 79,
   "id": "ade238ee",
   "metadata": {},
   "outputs": [
    {
     "data": {
      "text/html": [
       "<div>\n",
       "<style scoped>\n",
       "    .dataframe tbody tr th:only-of-type {\n",
       "        vertical-align: middle;\n",
       "    }\n",
       "\n",
       "    .dataframe tbody tr th {\n",
       "        vertical-align: top;\n",
       "    }\n",
       "\n",
       "    .dataframe thead th {\n",
       "        text-align: right;\n",
       "    }\n",
       "</style>\n",
       "<table border=\"1\" class=\"dataframe\">\n",
       "  <thead>\n",
       "    <tr style=\"text-align: right;\">\n",
       "      <th></th>\n",
       "      <th>loss</th>\n",
       "      <th>accuracy</th>\n",
       "      <th>val_loss</th>\n",
       "      <th>val_accuracy</th>\n",
       "    </tr>\n",
       "  </thead>\n",
       "  <tbody>\n",
       "    <tr>\n",
       "      <th>0</th>\n",
       "      <td>1.571772</td>\n",
       "      <td>0.661533</td>\n",
       "      <td>0.907611</td>\n",
       "      <td>0.858115</td>\n",
       "    </tr>\n",
       "    <tr>\n",
       "      <th>1</th>\n",
       "      <td>0.772293</td>\n",
       "      <td>0.888138</td>\n",
       "      <td>0.619422</td>\n",
       "      <td>0.928828</td>\n",
       "    </tr>\n",
       "    <tr>\n",
       "      <th>2</th>\n",
       "      <td>0.653513</td>\n",
       "      <td>0.918559</td>\n",
       "      <td>0.583999</td>\n",
       "      <td>0.937517</td>\n",
       "    </tr>\n",
       "    <tr>\n",
       "      <th>3</th>\n",
       "      <td>0.579387</td>\n",
       "      <td>0.936429</td>\n",
       "      <td>0.498295</td>\n",
       "      <td>0.956368</td>\n",
       "    </tr>\n",
       "    <tr>\n",
       "      <th>4</th>\n",
       "      <td>0.534765</td>\n",
       "      <td>0.946069</td>\n",
       "      <td>0.447572</td>\n",
       "      <td>0.969885</td>\n",
       "    </tr>\n",
       "    <tr>\n",
       "      <th>5</th>\n",
       "      <td>0.509580</td>\n",
       "      <td>0.951693</td>\n",
       "      <td>0.406641</td>\n",
       "      <td>0.976874</td>\n",
       "    </tr>\n",
       "    <tr>\n",
       "      <th>6</th>\n",
       "      <td>0.483776</td>\n",
       "      <td>0.957134</td>\n",
       "      <td>0.445802</td>\n",
       "      <td>0.977012</td>\n",
       "    </tr>\n",
       "    <tr>\n",
       "      <th>7</th>\n",
       "      <td>0.462293</td>\n",
       "      <td>0.960153</td>\n",
       "      <td>0.433358</td>\n",
       "      <td>0.979632</td>\n",
       "    </tr>\n",
       "  </tbody>\n",
       "</table>\n",
       "</div>"
      ],
      "text/plain": [
       "       loss  accuracy  val_loss  val_accuracy\n",
       "0  1.571772  0.661533  0.907611      0.858115\n",
       "1  0.772293  0.888138  0.619422      0.928828\n",
       "2  0.653513  0.918559  0.583999      0.937517\n",
       "3  0.579387  0.936429  0.498295      0.956368\n",
       "4  0.534765  0.946069  0.447572      0.969885\n",
       "5  0.509580  0.951693  0.406641      0.976874\n",
       "6  0.483776  0.957134  0.445802      0.977012\n",
       "7  0.462293  0.960153  0.433358      0.979632"
      ]
     },
     "execution_count": 79,
     "metadata": {},
     "output_type": "execute_result"
    }
   ],
   "source": [
    "# Creating a table for the loss/acc\n",
    "pd.DataFrame(model.history.history)"
   ]
  },
  {
   "cell_type": "code",
   "execution_count": 80,
   "id": "86b054c8",
   "metadata": {},
   "outputs": [
    {
     "data": {
      "image/png": "[encoded data removed]",
      "text/plain": [
       "<Figure size 640x480 with 1 Axes>"
      ]
     },
     "metadata": {},
     "output_type": "display_data"
    },
    {
     "data": {
      "image/png": "[encoded data removed]",
      "text/plain": [
       "<Figure size 640x480 with 1 Axes>"
      ]
     },
     "metadata": {},
     "output_type": "display_data"
    }
   ],
   "source": [
    "# visualization of loss and accuracy\n",
    "pd.DataFrame(model.history.history)[['loss', 'val_loss']].plot()\n",
    "pd.DataFrame(model.history.history)[['accuracy', 'val_accuracy']].plot()\n",
    "plt.show()"
   ]
  },
  {
   "cell_type": "markdown",
   "id": "c3655253",
   "metadata": {},
   "source": [
    "# 4. Model Validation"
   ]
  },
  {
   "cell_type": "code",
   "execution_count": 81,
   "id": "bcb2c327",
   "metadata": {},
   "outputs": [
    {
     "name": "stdout",
     "output_type": "stream",
     "text": [
      "680/680 [==============================] - 8s 12ms/step\n"
     ]
    }
   ],
   "source": [
    "# Making Predictions\n",
    "predict = np.argmax(model.predict(xtest), axis=-1)"
   ]
  },
  {
   "cell_type": "markdown",
   "id": "53aba86c",
   "metadata": {},
   "source": [
    "## Testing against the test response"
   ]
  },
  {
   "cell_type": "code",
   "execution_count": 82,
   "id": "e15601a7",
   "metadata": {},
   "outputs": [
    {
     "name": "stdout",
     "output_type": "stream",
     "text": [
      "              precision    recall  f1-score   support\n",
      "\n",
      "           0       0.99      0.97      0.98       750\n",
      "           1       0.99      0.96      0.97       750\n",
      "           2       0.98      1.00      0.99       750\n",
      "           3       0.97      1.00      0.98       750\n",
      "           4       0.94      0.99      0.96       750\n",
      "           5       0.99      1.00      1.00       750\n",
      "           6       1.00      0.98      0.99       750\n",
      "           7       0.97      1.00      0.98       750\n",
      "           8       0.98      0.96      0.97       750\n",
      "           9       1.00      1.00      1.00       750\n",
      "          10       1.00      0.96      0.98       750\n",
      "          11       0.97      0.99      0.98       750\n",
      "          12       0.99      0.96      0.97       750\n",
      "          13       0.97      0.99      0.98       750\n",
      "          14       0.99      0.96      0.98       750\n",
      "          15       0.98      1.00      0.99       750\n",
      "          16       0.97      0.99      0.98       750\n",
      "          17       0.97      0.93      0.95       750\n",
      "          18       0.95      0.99      0.97       750\n",
      "          19       0.99      0.95      0.97       750\n",
      "          20       0.91      1.00      0.95       750\n",
      "          21       0.99      0.96      0.97       750\n",
      "          22       1.00      1.00      1.00       750\n",
      "          23       0.97      0.98      0.98       750\n",
      "          24       0.98      0.99      0.98       750\n",
      "          25       0.99      0.98      0.99       750\n",
      "          26       1.00      0.95      0.97       750\n",
      "          27       1.00      0.99      0.99       750\n",
      "          28       0.99      1.00      1.00       750\n",
      "\n",
      "    accuracy                           0.98     21750\n",
      "   macro avg       0.98      0.98      0.98     21750\n",
      "weighted avg       0.98      0.98      0.98     21750\n",
      "\n"
     ]
    }
   ],
   "source": [
    "from sklearn.metrics import classification_report\n",
    "print(classification_report(ytest, predict))"
   ]
  },
  {
   "cell_type": "markdown",
   "id": "5eb14fda",
   "metadata": {},
   "source": [
    "## Confusion matrix"
   ]
  },
  {
   "cell_type": "code",
   "execution_count": 57,
   "id": "5ef0cf81",
   "metadata": {},
   "outputs": [
    {
     "data": {
      "image/png": "[encoded data removed]",
      "text/plain": [
       "<Figure size 1200x1200 with 2 Axes>"
      ]
     },
     "metadata": {},
     "output_type": "display_data"
    }
   ],
   "source": [
    "from sklearn.metrics import confusion_matrix\n",
    "plt.figure(figsize=(12,12))\n",
    "sns.heatmap(confusion_matrix(ytest, predict))\n",
    "plt.show()"
   ]
  },
  {
   "cell_type": "markdown",
   "id": "905f3b25",
   "metadata": {},
   "source": [
    "# iii. Save Model"
   ]
  },
  {
   "cell_type": "code",
   "execution_count": 83,
   "id": "48f917a1",
   "metadata": {},
   "outputs": [],
   "source": [
    "from keras.models import load_model\n",
    "model.save(\"Model_asl_dense_nospin.model\", save_format = \"h5\")"
   ]
  }
 ],
 "metadata": {
  "kernelspec": {
   "display_name": "venv1",
   "language": "python",
   "name": "python3"
  },
  "language_info": {
   "codemirror_mode": {
    "name": "ipython",
    "version": 3
   },
   "file_extension": ".py",
   "mimetype": "text/x-python",
   "name": "python",
   "nbconvert_exporter": "python",
   "pygments_lexer": "ipython3",
   "version": "3.8.8"
  },
  "vscode": {
   "interpreter": {
    "hash": "608e6ed4cb8cfb65b0db19dd554604e531b6f9d2bdb72be3156ba6bc65e3d0ce"
   }
  }
 },
 "nbformat": 4,
 "nbformat_minor": 5
}
