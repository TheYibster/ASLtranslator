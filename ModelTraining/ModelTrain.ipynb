{
 "cells": [
  {
   "cell_type": "markdown",
   "id": "e2f992d1",
   "metadata": {},
   "source": [
    "# Model Training"
   ]
  },
  {
   "cell_type": "markdown",
   "id": "164c5ec9",
   "metadata": {},
   "source": [
    "## i. Importing packages"
   ]
  },
  {
   "cell_type": "code",
   "execution_count": 30,
   "id": "c872ca1e",
   "metadata": {},
   "outputs": [
    {
     "name": "stdout",
     "output_type": "stream",
     "text": [
      "Import Successful\n"
     ]
    }
   ],
   "source": [
    "import numpy as np\n",
    "import pandas as pd\n",
    "import seaborn as sns\n",
    "import matplotlib.pyplot as plt\n",
    "import cv2\n",
    "import skimage\n",
    "from skimage.transform import resize\n",
    "from sklearn.ensemble import BaggingClassifier\n",
    "from sklearn.tree import DecisionTreeClassifier\n",
    "\n",
    "import tensorflow as tf\n",
    "from tensorflow import keras\n",
    "import os\n",
    "\n",
    "print(\"Import Successful\")"
   ]
  },
  {
   "cell_type": "markdown",
   "id": "fc188055",
   "metadata": {},
   "source": [
    "## ii. Loading dataset"
   ]
  },
  {
   "cell_type": "code",
   "execution_count": 59,
   "id": "6608900b",
   "metadata": {},
   "outputs": [],
   "source": [
    "img_size = 64\n",
    "target_dims = (img_size, img_size, 3)\n",
    "n_size = 29\n",
    "train_size = 87000\n",
    "\n",
    "# using os.path here since our os are mismatched\n",
    "nb_path = os.getcwd()\n",
    "train_dir = os.path.join(nb_path, 'asl_alphabet_train')\n",
    "\n",
    "def load_data(path):\n",
    "    x = np.empty((train_size, img_size, img_size, 3), dtype = np.float32)\n",
    "    Y = np.empty((train_size, ), dtype = int)\n",
    "    label_map = {'A': 0, 'B': 1, 'C': 2, 'D': 3, 'E': 4, 'F': 5, 'G': 6, 'H': 7, 'I': 8, 'J': 9, 'K': 10, 'L': 11, 'M': 12, 'N': 13, 'O': 14, 'P': 15, 'Q': 16, 'R': 17, 'S': 18, 'T': 19, 'U': 20, 'V': 21, 'W': 22, 'X': 23, 'Y': 24, 'Z': 25, 'del': 26, 'space': 27, 'nothing': 28}\n",
    "    count = 0\n",
    "    for folder in os.listdir(path):\n",
    "        if not folder.startswith('.'):\n",
    "            if folder in label_map:\n",
    "                label = label_map[folder]\n",
    "            else:\n",
    "                label = 29\n",
    "            for img_name in os.listdir(os.path.join(path, folder)):\n",
    "                img = cv2.imread(os.path.join(path, folder, img_name))\n",
    "                if img is not None:\n",
    "                    scale_factor = np.random.uniform(0.8, 1.2)\n",
    "                    zoomed_image = cv2.resize(img, None, fx=scale_factor, fy=scale_factor)\n",
    "                    alpha = np.random.uniform(0.8, 1.2)\n",
    "                    beta = np.random.uniform(-20, 20)\n",
    "                    brightness_contrast_image = cv2.convertScaleAbs(zoomed_image, alpha=alpha, beta=beta)\n",
    "                    img = skimage.transform.resize(brightness_contrast_image, (img_size, img_size, 3))\n",
    "                    img_arr = np.asarray(img).reshape((-1, img_size, img_size, 3))\n",
    "                    \n",
    "                    x[count] = img_arr\n",
    "                    Y[count] = label\n",
    "                    count += 1\n",
    "    return x, Y\n",
    "\n",
    "# Load in Data from directory\n",
    "x_train, Y_train = load_data(train_dir)"
   ]
  },
  {
   "cell_type": "markdown",
   "id": "6117373e",
   "metadata": {},
   "source": [
    "### Checking the data:"
   ]
  },
  {
   "cell_type": "code",
   "execution_count": 3,
   "id": "ce964c30",
   "metadata": {},
   "outputs": [
    {
     "name": "stdout",
     "output_type": "stream",
     "text": [
      "(87000, 64, 64, 3)\n",
      "(87000,)\n",
      "(64, 64, 3)\n"
     ]
    }
   ],
   "source": [
    "print(x_train.shape)\n",
    "print(Y_train.shape)\n",
    "print(x_train[12].shape)"
   ]
  },
  {
   "cell_type": "markdown",
   "id": "7e14c161",
   "metadata": {},
   "source": [
    "### View an image:"
   ]
  },
  {
   "cell_type": "code",
   "execution_count": 4,
   "id": "00a6063b",
   "metadata": {},
   "outputs": [
    {
     "data": {
      "text/plain": [
       "<function matplotlib.pyplot.show(close=None, block=None)>"
      ]
     },
     "execution_count": 4,
     "metadata": {},
     "output_type": "execute_result"
    },
    {
     "data": {
      "image/png": "[encoded data removed]",
      "text/plain": [
       "<Figure size 640x480 with 1 Axes>"
      ]
     },
     "metadata": {},
     "output_type": "display_data"
    }
   ],
   "source": [
    "plt.imshow(x_train[0])\n",
    "plt.show\n"
   ]
  },
  {
   "cell_type": "markdown",
   "id": "5706404a",
   "metadata": {},
   "source": [
    "# 1. Data Processing"
   ]
  },
  {
   "cell_type": "markdown",
   "id": "011b776b",
   "metadata": {},
   "source": [
    "## Train/Test Split\n"
   ]
  },
  {
   "cell_type": "code",
   "execution_count": 45,
   "id": "c313821c",
   "metadata": {},
   "outputs": [],
   "source": [
    "from sklearn.model_selection import train_test_split\n",
    "\n",
    "# making copies of original data\n",
    "x_data = x_train\n",
    "Y_data = Y_train\n",
    "\n",
    "# spliting the data and stratfying on Y\n",
    "xtrain, xtest, ytrain, ytest = train_test_split(x_data, Y_data, test_size=0.25, random_state=42, stratify=Y_data)"
   ]
  },
  {
   "cell_type": "markdown",
   "id": "c1f7b40f",
   "metadata": {},
   "source": [
    "### Categorical data"
   ]
  },
  {
   "cell_type": "code",
   "execution_count": 46,
   "id": "acec4620",
   "metadata": {},
   "outputs": [],
   "source": [
    "# Create Matrix\n",
    "from tensorflow.keras.utils import to_categorical\n",
    "ycat_train = to_categorical(ytrain, 29)\n",
    "ycat_test = to_categorical(ytest, 29)"
   ]
  },
  {
   "cell_type": "markdown",
   "id": "6f8946b3",
   "metadata": {},
   "source": [
    "### Sanity Check"
   ]
  },
  {
   "cell_type": "code",
   "execution_count": 47,
   "id": "47992011",
   "metadata": {},
   "outputs": [
    {
     "name": "stdout",
     "output_type": "stream",
     "text": [
      "(65250, 64, 64, 3)\n",
      "(65250,)\n",
      "(21750, 64, 64, 3)\n",
      "[ 6  7 22 ...  7 28 13]\n",
      "(65250, 29)\n",
      "[[0. 0. 0. ... 0. 0. 0.]\n",
      " [0. 0. 0. ... 0. 0. 0.]\n",
      " [0. 0. 0. ... 0. 0. 0.]\n",
      " ...\n",
      " [0. 0. 0. ... 0. 0. 0.]\n",
      " [0. 0. 0. ... 1. 0. 0.]\n",
      " [0. 0. 0. ... 0. 0. 0.]]\n"
     ]
    }
   ],
   "source": [
    "# The dimensions should be correct\n",
    "print(xtrain.shape)\n",
    "print(ytrain.shape)\n",
    "print(xtest.shape)\n",
    "print(ytest)\n",
    "print(ycat_train.shape)"
   ]
  },
  {
   "cell_type": "markdown",
   "id": "9b60d980",
   "metadata": {},
   "source": [
    "# 2. Build a Sequential Model"
   ]
  },
  {
   "cell_type": "code",
   "execution_count": 48,
   "id": "ffee5b37",
   "metadata": {},
   "outputs": [],
   "source": [
    "# 3 layer model\n",
    "model = tf.keras.models.Sequential([\n",
    "    tf.keras.layers.Conv2D(32, (5, 5), activation=\"relu\", input_shape=(64, 64, 3)),\n",
    "    tf.keras.layers.MaxPooling2D(2, 2),\n",
    "    tf.keras.layers.Conv2D(64, (3, 3), activation=\"relu\"),\n",
    "    tf.keras.layers.MaxPooling2D(2, 2),\n",
    "    tf.keras.layers.Conv2D(128, (3, 3), activation=\"relu\"),\n",
    "    tf.keras.layers.MaxPooling2D(2, 2),\n",
    "    tf.keras.layers.Flatten(),\n",
    "    tf.keras.layers.Dropout(0.25),  # Add dropout layer with rate 0.25\n",
    "    tf.keras.layers.Dense(128, activation=\"relu\", kernel_regularizer=tf.keras.regularizers.l2(0.01)),  # Add L2 regularization\n",
    "    tf.keras.layers.Dense(29, activation=\"softmax\")\n",
    "])\n"
   ]
  },
  {
   "cell_type": "markdown",
   "id": "85c0535d",
   "metadata": {},
   "source": [
    "## Sanity Check Part 2"
   ]
  },
  {
   "cell_type": "code",
   "execution_count": 49,
   "id": "ee4db412",
   "metadata": {},
   "outputs": [
    {
     "name": "stdout",
     "output_type": "stream",
     "text": [
      "Model: \"sequential_1\"\n",
      "_________________________________________________________________\n",
      " Layer (type)                Output Shape              Param #   \n",
      "=================================================================\n",
      " conv2d_3 (Conv2D)           (None, 60, 60, 32)        2432      \n",
      "                                                                 \n",
      " max_pooling2d_3 (MaxPooling  (None, 30, 30, 32)       0         \n",
      " 2D)                                                             \n",
      "                                                                 \n",
      " conv2d_4 (Conv2D)           (None, 28, 28, 64)        18496     \n",
      "                                                                 \n",
      " max_pooling2d_4 (MaxPooling  (None, 14, 14, 64)       0         \n",
      " 2D)                                                             \n",
      "                                                                 \n",
      " conv2d_5 (Conv2D)           (None, 12, 12, 128)       73856     \n",
      "                                                                 \n",
      " max_pooling2d_5 (MaxPooling  (None, 6, 6, 128)        0         \n",
      " 2D)                                                             \n",
      "                                                                 \n",
      " flatten_1 (Flatten)         (None, 4608)              0         \n",
      "                                                                 \n",
      " dropout (Dropout)           (None, 4608)              0         \n",
      "                                                                 \n",
      " dense_2 (Dense)             (None, 128)               589952    \n",
      "                                                                 \n",
      " dense_3 (Dense)             (None, 29)                3741      \n",
      "                                                                 \n",
      "=================================================================\n",
      "Total params: 688,477\n",
      "Trainable params: 688,477\n",
      "Non-trainable params: 0\n",
      "_________________________________________________________________\n"
     ]
    }
   ],
   "source": [
    "model.summary()"
   ]
  },
  {
   "cell_type": "markdown",
   "id": "39788b81",
   "metadata": {},
   "source": [
    "## Model Compile"
   ]
  },
  {
   "cell_type": "code",
   "execution_count": 50,
   "id": "18063c05",
   "metadata": {},
   "outputs": [],
   "source": [
    "model.compile(\n",
    "    loss = 'categorical_crossentropy',\n",
    "    optimizer = 'adam',\n",
    "    metrics = ['accuracy']\n",
    ")"
   ]
  },
  {
   "cell_type": "markdown",
   "id": "df6a123c",
   "metadata": {},
   "source": [
    "# 3. Model Fitting"
   ]
  },
  {
   "cell_type": "markdown",
   "id": "25bc7a45",
   "metadata": {},
   "source": [
    "## Import early stops"
   ]
  },
  {
   "cell_type": "code",
   "execution_count": 51,
   "id": "e0b5ec0f",
   "metadata": {},
   "outputs": [],
   "source": [
    "from tensorflow.keras.callbacks import EarlyStopping\n",
    "stop_the_train = EarlyStopping(monitor = 'val_loss', patience = 2)"
   ]
  },
  {
   "cell_type": "markdown",
   "id": "81b3a674",
   "metadata": {},
   "source": [
    "## Input data into model\n"
   ]
  },
  {
   "cell_type": "code",
   "execution_count": 52,
   "id": "9682fc29",
   "metadata": {},
   "outputs": [
    {
     "name": "stdout",
     "output_type": "stream",
     "text": [
      "Epoch 1/20\n",
      "1020/1020 - 98s - loss: 2.3024 - accuracy: 0.4178 - val_loss: 1.5718 - val_accuracy: 0.6575 - 98s/epoch - 96ms/step\n",
      "Epoch 2/20\n",
      "1020/1020 - 99s - loss: 1.3476 - accuracy: 0.7238 - val_loss: 1.1001 - val_accuracy: 0.8076 - 99s/epoch - 97ms/step\n",
      "Epoch 3/20\n",
      "1020/1020 - 98s - loss: 1.0557 - accuracy: 0.8100 - val_loss: 0.8851 - val_accuracy: 0.8692 - 98s/epoch - 96ms/step\n",
      "Epoch 4/20\n",
      "1020/1020 - 99s - loss: 0.9281 - accuracy: 0.8437 - val_loss: 0.8209 - val_accuracy: 0.8923 - 99s/epoch - 97ms/step\n",
      "Epoch 5/20\n",
      "1020/1020 - 102s - loss: 0.8515 - accuracy: 0.8660 - val_loss: 0.7601 - val_accuracy: 0.9007 - 102s/epoch - 100ms/step\n",
      "Epoch 6/20\n",
      "1020/1020 - 101s - loss: 0.7946 - accuracy: 0.8834 - val_loss: 0.6948 - val_accuracy: 0.9144 - 101s/epoch - 99ms/step\n",
      "Epoch 7/20\n",
      "1020/1020 - 102s - loss: 0.7515 - accuracy: 0.8930 - val_loss: 0.6745 - val_accuracy: 0.9161 - 102s/epoch - 100ms/step\n",
      "Epoch 8/20\n",
      "1020/1020 - 105s - loss: 0.7306 - accuracy: 0.9010 - val_loss: 0.6426 - val_accuracy: 0.9338 - 105s/epoch - 103ms/step\n",
      "Epoch 9/20\n",
      "1020/1020 - 103s - loss: 0.6880 - accuracy: 0.9097 - val_loss: 0.6301 - val_accuracy: 0.9322 - 103s/epoch - 101ms/step\n",
      "Epoch 10/20\n",
      "1020/1020 - 107s - loss: 0.6744 - accuracy: 0.9131 - val_loss: 0.6014 - val_accuracy: 0.9418 - 107s/epoch - 105ms/step\n",
      "Epoch 11/20\n",
      "1020/1020 - 105s - loss: 0.6382 - accuracy: 0.9195 - val_loss: 0.5957 - val_accuracy: 0.9368 - 105s/epoch - 103ms/step\n",
      "Epoch 12/20\n",
      "1020/1020 - 105s - loss: 0.6350 - accuracy: 0.9212 - val_loss: 0.5573 - val_accuracy: 0.9450 - 105s/epoch - 103ms/step\n",
      "Epoch 13/20\n",
      "1020/1020 - 102s - loss: 0.5953 - accuracy: 0.9292 - val_loss: 0.5583 - val_accuracy: 0.9438 - 102s/epoch - 100ms/step\n",
      "Epoch 14/20\n",
      "1020/1020 - 102s - loss: 0.5963 - accuracy: 0.9295 - val_loss: 0.5179 - val_accuracy: 0.9497 - 102s/epoch - 100ms/step\n",
      "Epoch 15/20\n",
      "1020/1020 - 102s - loss: 0.5646 - accuracy: 0.9340 - val_loss: 0.5203 - val_accuracy: 0.9536 - 102s/epoch - 100ms/step\n",
      "Epoch 16/20\n",
      "1020/1020 - 100s - loss: 0.5614 - accuracy: 0.9365 - val_loss: 0.4902 - val_accuracy: 0.9569 - 100s/epoch - 98ms/step\n",
      "Epoch 17/20\n",
      "1020/1020 - 102s - loss: 0.5490 - accuracy: 0.9394 - val_loss: 0.4871 - val_accuracy: 0.9566 - 102s/epoch - 100ms/step\n",
      "Epoch 18/20\n",
      "1020/1020 - 100s - loss: 0.5359 - accuracy: 0.9396 - val_loss: 0.5147 - val_accuracy: 0.9455 - 100s/epoch - 98ms/step\n",
      "Epoch 19/20\n",
      "1020/1020 - 100s - loss: 0.5117 - accuracy: 0.9442 - val_loss: 0.5056 - val_accuracy: 0.9469 - 100s/epoch - 98ms/step\n"
     ]
    },
    {
     "data": {
      "text/plain": [
       "<keras.callbacks.History at 0x235f29ddd90>"
      ]
     },
     "execution_count": 52,
     "metadata": {},
     "output_type": "execute_result"
    }
   ],
   "source": [
    "# The part where the computer does all the work :)\n",
    "\n",
    "model.fit(\n",
    "    xtrain, ycat_train,\n",
    "    epochs=20,\n",
    "    batch_size=64,\n",
    "    verbose=2,\n",
    "    validation_data=(xtest, ycat_test),\n",
    "    callbacks=[stop_the_train]\n",
    ")"
   ]
  },
  {
   "cell_type": "markdown",
   "id": "49411a99",
   "metadata": {},
   "source": [
    "## Metrics\n",
    "\n"
   ]
  },
  {
   "cell_type": "code",
   "execution_count": 53,
   "id": "ade238ee",
   "metadata": {},
   "outputs": [
    {
     "data": {
      "text/html": [
       "<div>\n",
       "<style scoped>\n",
       "    .dataframe tbody tr th:only-of-type {\n",
       "        vertical-align: middle;\n",
       "    }\n",
       "\n",
       "    .dataframe tbody tr th {\n",
       "        vertical-align: top;\n",
       "    }\n",
       "\n",
       "    .dataframe thead th {\n",
       "        text-align: right;\n",
       "    }\n",
       "</style>\n",
       "<table border=\"1\" class=\"dataframe\">\n",
       "  <thead>\n",
       "    <tr style=\"text-align: right;\">\n",
       "      <th></th>\n",
       "      <th>loss</th>\n",
       "      <th>accuracy</th>\n",
       "      <th>val_loss</th>\n",
       "      <th>val_accuracy</th>\n",
       "    </tr>\n",
       "  </thead>\n",
       "  <tbody>\n",
       "    <tr>\n",
       "      <th>0</th>\n",
       "      <td>2.302442</td>\n",
       "      <td>0.417808</td>\n",
       "      <td>1.571810</td>\n",
       "      <td>0.657517</td>\n",
       "    </tr>\n",
       "    <tr>\n",
       "      <th>1</th>\n",
       "      <td>1.347570</td>\n",
       "      <td>0.723755</td>\n",
       "      <td>1.100134</td>\n",
       "      <td>0.807632</td>\n",
       "    </tr>\n",
       "    <tr>\n",
       "      <th>2</th>\n",
       "      <td>1.055711</td>\n",
       "      <td>0.810023</td>\n",
       "      <td>0.885143</td>\n",
       "      <td>0.869195</td>\n",
       "    </tr>\n",
       "    <tr>\n",
       "      <th>3</th>\n",
       "      <td>0.928135</td>\n",
       "      <td>0.843663</td>\n",
       "      <td>0.820935</td>\n",
       "      <td>0.892276</td>\n",
       "    </tr>\n",
       "    <tr>\n",
       "      <th>4</th>\n",
       "      <td>0.851468</td>\n",
       "      <td>0.865962</td>\n",
       "      <td>0.760150</td>\n",
       "      <td>0.900690</td>\n",
       "    </tr>\n",
       "    <tr>\n",
       "      <th>5</th>\n",
       "      <td>0.794556</td>\n",
       "      <td>0.883418</td>\n",
       "      <td>0.694842</td>\n",
       "      <td>0.914437</td>\n",
       "    </tr>\n",
       "    <tr>\n",
       "      <th>6</th>\n",
       "      <td>0.751514</td>\n",
       "      <td>0.893012</td>\n",
       "      <td>0.674502</td>\n",
       "      <td>0.916092</td>\n",
       "    </tr>\n",
       "    <tr>\n",
       "      <th>7</th>\n",
       "      <td>0.730585</td>\n",
       "      <td>0.901027</td>\n",
       "      <td>0.642606</td>\n",
       "      <td>0.933793</td>\n",
       "    </tr>\n",
       "    <tr>\n",
       "      <th>8</th>\n",
       "      <td>0.687971</td>\n",
       "      <td>0.909747</td>\n",
       "      <td>0.630071</td>\n",
       "      <td>0.932184</td>\n",
       "    </tr>\n",
       "    <tr>\n",
       "      <th>9</th>\n",
       "      <td>0.674361</td>\n",
       "      <td>0.913057</td>\n",
       "      <td>0.601392</td>\n",
       "      <td>0.941793</td>\n",
       "    </tr>\n",
       "    <tr>\n",
       "      <th>10</th>\n",
       "      <td>0.638245</td>\n",
       "      <td>0.919525</td>\n",
       "      <td>0.595657</td>\n",
       "      <td>0.936782</td>\n",
       "    </tr>\n",
       "    <tr>\n",
       "      <th>11</th>\n",
       "      <td>0.635004</td>\n",
       "      <td>0.921211</td>\n",
       "      <td>0.557267</td>\n",
       "      <td>0.944966</td>\n",
       "    </tr>\n",
       "    <tr>\n",
       "      <th>12</th>\n",
       "      <td>0.595285</td>\n",
       "      <td>0.929165</td>\n",
       "      <td>0.558343</td>\n",
       "      <td>0.943816</td>\n",
       "    </tr>\n",
       "    <tr>\n",
       "      <th>13</th>\n",
       "      <td>0.596350</td>\n",
       "      <td>0.929548</td>\n",
       "      <td>0.517930</td>\n",
       "      <td>0.949655</td>\n",
       "    </tr>\n",
       "    <tr>\n",
       "      <th>14</th>\n",
       "      <td>0.564575</td>\n",
       "      <td>0.934008</td>\n",
       "      <td>0.520314</td>\n",
       "      <td>0.953609</td>\n",
       "    </tr>\n",
       "    <tr>\n",
       "      <th>15</th>\n",
       "      <td>0.561392</td>\n",
       "      <td>0.936490</td>\n",
       "      <td>0.490220</td>\n",
       "      <td>0.956874</td>\n",
       "    </tr>\n",
       "    <tr>\n",
       "      <th>16</th>\n",
       "      <td>0.548990</td>\n",
       "      <td>0.939402</td>\n",
       "      <td>0.487055</td>\n",
       "      <td>0.956644</td>\n",
       "    </tr>\n",
       "    <tr>\n",
       "      <th>17</th>\n",
       "      <td>0.535926</td>\n",
       "      <td>0.939571</td>\n",
       "      <td>0.514651</td>\n",
       "      <td>0.945471</td>\n",
       "    </tr>\n",
       "    <tr>\n",
       "      <th>18</th>\n",
       "      <td>0.511705</td>\n",
       "      <td>0.944153</td>\n",
       "      <td>0.505600</td>\n",
       "      <td>0.946851</td>\n",
       "    </tr>\n",
       "  </tbody>\n",
       "</table>\n",
       "</div>"
      ],
      "text/plain": [
       "        loss  accuracy  val_loss  val_accuracy\n",
       "0   2.302442  0.417808  1.571810      0.657517\n",
       "1   1.347570  0.723755  1.100134      0.807632\n",
       "2   1.055711  0.810023  0.885143      0.869195\n",
       "3   0.928135  0.843663  0.820935      0.892276\n",
       "4   0.851468  0.865962  0.760150      0.900690\n",
       "5   0.794556  0.883418  0.694842      0.914437\n",
       "6   0.751514  0.893012  0.674502      0.916092\n",
       "7   0.730585  0.901027  0.642606      0.933793\n",
       "8   0.687971  0.909747  0.630071      0.932184\n",
       "9   0.674361  0.913057  0.601392      0.941793\n",
       "10  0.638245  0.919525  0.595657      0.936782\n",
       "11  0.635004  0.921211  0.557267      0.944966\n",
       "12  0.595285  0.929165  0.558343      0.943816\n",
       "13  0.596350  0.929548  0.517930      0.949655\n",
       "14  0.564575  0.934008  0.520314      0.953609\n",
       "15  0.561392  0.936490  0.490220      0.956874\n",
       "16  0.548990  0.939402  0.487055      0.956644\n",
       "17  0.535926  0.939571  0.514651      0.945471\n",
       "18  0.511705  0.944153  0.505600      0.946851"
      ]
     },
     "execution_count": 53,
     "metadata": {},
     "output_type": "execute_result"
    }
   ],
   "source": [
    "# Creating a table for the loss/acc\n",
    "pd.DataFrame(model.history.history)"
   ]
  },
  {
   "cell_type": "code",
   "execution_count": 54,
   "id": "86b054c8",
   "metadata": {},
   "outputs": [
    {
     "data": {
      "image/png": "[encoded data removed]",
      "text/plain": [
       "<Figure size 640x480 with 1 Axes>"
      ]
     },
     "metadata": {},
     "output_type": "display_data"
    },
    {
     "data": {
      "image/png": "[encoded data removed]",
      "text/plain": [
       "<Figure size 640x480 with 1 Axes>"
      ]
     },
     "metadata": {},
     "output_type": "display_data"
    }
   ],
   "source": [
    "# visualization of loss and accuracy\n",
    "pd.DataFrame(model.history.history)[['loss', 'val_loss']].plot()\n",
    "pd.DataFrame(model.history.history)[['accuracy', 'val_accuracy']].plot()\n",
    "plt.show()"
   ]
  },
  {
   "cell_type": "markdown",
   "id": "c3655253",
   "metadata": {},
   "source": [
    "# 4. Model Validation"
   ]
  },
  {
   "cell_type": "code",
   "execution_count": 55,
   "id": "bcb2c327",
   "metadata": {},
   "outputs": [
    {
     "name": "stdout",
     "output_type": "stream",
     "text": [
      "680/680 [==============================] - 8s 11ms/step\n"
     ]
    }
   ],
   "source": [
    "# Making Predictions\n",
    "predict = np.argmax(model.predict(xtest), axis=-1)"
   ]
  },
  {
   "cell_type": "markdown",
   "id": "53aba86c",
   "metadata": {},
   "source": [
    "## Testing against the test response"
   ]
  },
  {
   "cell_type": "code",
   "execution_count": 56,
   "id": "e15601a7",
   "metadata": {},
   "outputs": [
    {
     "name": "stdout",
     "output_type": "stream",
     "text": [
      "              precision    recall  f1-score   support\n",
      "\n",
      "           0       0.94      0.93      0.94       750\n",
      "           1       0.96      0.97      0.96       750\n",
      "           2       0.99      0.98      0.98       750\n",
      "           3       0.97      0.97      0.97       750\n",
      "           4       0.93      0.95      0.94       750\n",
      "           5       0.98      0.98      0.98       750\n",
      "           6       1.00      0.89      0.94       750\n",
      "           7       0.95      0.98      0.97       750\n",
      "           8       0.95      0.96      0.95       750\n",
      "           9       0.93      0.97      0.95       750\n",
      "          10       0.98      0.95      0.97       750\n",
      "          11       0.99      0.97      0.98       750\n",
      "          12       0.96      0.93      0.94       750\n",
      "          13       0.95      0.95      0.95       750\n",
      "          14       0.89      1.00      0.94       750\n",
      "          15       0.99      0.92      0.95       750\n",
      "          16       0.91      0.99      0.95       750\n",
      "          17       0.85      0.98      0.91       750\n",
      "          18       0.83      0.96      0.89       750\n",
      "          19       0.98      0.88      0.93       750\n",
      "          20       0.96      0.86      0.91       750\n",
      "          21       0.92      0.95      0.94       750\n",
      "          22       0.97      0.93      0.95       750\n",
      "          23       0.98      0.76      0.86       750\n",
      "          24       0.99      0.91      0.94       750\n",
      "          25       0.87      0.97      0.91       750\n",
      "          26       0.96      0.97      0.96       750\n",
      "          27       0.95      0.98      0.97       750\n",
      "          28       1.00      1.00      1.00       750\n",
      "\n",
      "    accuracy                           0.95     21750\n",
      "   macro avg       0.95      0.95      0.95     21750\n",
      "weighted avg       0.95      0.95      0.95     21750\n",
      "\n"
     ]
    }
   ],
   "source": [
    "from sklearn.metrics import classification_report\n",
    "print(classification_report(ytest, predict))"
   ]
  },
  {
   "cell_type": "markdown",
   "id": "5eb14fda",
   "metadata": {},
   "source": [
    "## Confusion matrix"
   ]
  },
  {
   "cell_type": "code",
   "execution_count": 57,
   "id": "5ef0cf81",
   "metadata": {},
   "outputs": [
    {
     "data": {
      "image/png": "[encoded data removed]",
      "text/plain": [
       "<Figure size 1200x1200 with 2 Axes>"
      ]
     },
     "metadata": {},
     "output_type": "display_data"
    }
   ],
   "source": [
    "from sklearn.metrics import confusion_matrix\n",
    "plt.figure(figsize=(12,12))\n",
    "sns.heatmap(confusion_matrix(ytest, predict))\n",
    "plt.show()"
   ]
  },
  {
   "cell_type": "markdown",
   "id": "905f3b25",
   "metadata": {},
   "source": [
    "# iii. Save Model"
   ]
  },
  {
   "cell_type": "code",
   "execution_count": 58,
   "id": "48f917a1",
   "metadata": {},
   "outputs": [],
   "source": [
    "from keras.models import load_model\n",
    "model.save(\"Model_asl_dense.model\", save_format = \"h5\")"
   ]
  }
 ],
 "metadata": {
  "kernelspec": {
   "display_name": "venv1",
   "language": "python",
   "name": "python3"
  },
  "language_info": {
   "codemirror_mode": {
    "name": "ipython",
    "version": 3
   },
   "file_extension": ".py",
   "mimetype": "text/x-python",
   "name": "python",
   "nbconvert_exporter": "python",
   "pygments_lexer": "ipython3",
   "version": "3.8.8"
  },
  "vscode": {
   "interpreter": {
    "hash": "608e6ed4cb8cfb65b0db19dd554604e531b6f9d2bdb72be3156ba6bc65e3d0ce"
   }
  }
 },
 "nbformat": 4,
 "nbformat_minor": 5
}
