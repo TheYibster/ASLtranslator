{
 "cells": [
  {
   "cell_type": "markdown",
   "id": "e2f992d1",
   "metadata": {},
   "source": [
    "# Model Training"
   ]
  },
  {
   "cell_type": "markdown",
   "id": "164c5ec9",
   "metadata": {},
   "source": [
    "## i. Importing packages"
   ]
  },
  {
   "cell_type": "code",
   "execution_count": 30,
   "id": "c872ca1e",
   "metadata": {},
   "outputs": [
    {
     "name": "stdout",
     "output_type": "stream",
     "text": [
      "Import Successful\n"
     ]
    }
   ],
   "source": [
    "import numpy as np\n",
    "import pandas as pd\n",
    "import seaborn as sns\n",
    "import matplotlib.pyplot as plt\n",
    "import cv2\n",
    "import skimage\n",
    "from skimage.transform import resize\n",
    "from sklearn.ensemble import BaggingClassifier\n",
    "from sklearn.tree import DecisionTreeClassifier\n",
    "\n",
    "import tensorflow as tf\n",
    "from tensorflow import keras\n",
    "import os\n",
    "\n",
    "print(\"Import Successful\")"
   ]
  },
  {
   "cell_type": "markdown",
   "id": "fc188055",
   "metadata": {},
   "source": [
    "## ii. Loading dataset"
   ]
  },
  {
   "cell_type": "code",
   "execution_count": 2,
   "id": "6608900b",
   "metadata": {},
   "outputs": [],
   "source": [
    "img_size = 64\n",
    "target_dims = (img_size, img_size, 3)\n",
    "n_size = 29\n",
    "train_size = 87000\n",
    "\n",
    "# using os.path here since our os are mismatched\n",
    "nb_path = os.getcwd()\n",
    "train_dir = os.path.join(nb_path, 'asl_alphabet_train')\n",
    "\n",
    "def load_data(path):\n",
    "    x = np.empty((train_size, img_size, img_size, 3), dtype = np.float32)\n",
    "    Y = np.empty((train_size, ), dtype = int)\n",
    "    label_map = {'A': 0, 'B': 1, 'C': 2, 'D': 3, 'E': 4, 'F': 5, 'G': 6, 'H': 7, 'I': 8, 'J': 9, 'K': 10, 'L': 11, 'M': 12, 'N': 13, 'O': 14, 'P': 15, 'Q': 16, 'R': 17, 'S': 18, 'T': 19, 'U': 20, 'V': 21, 'W': 22, 'X': 23, 'Y': 24, 'Z': 25, 'del': 26, 'space': 27, 'nothing': 28}\n",
    "    count = 0\n",
    "    for folder in os.listdir(path):\n",
    "        if not folder.startswith('.'):\n",
    "            if folder in label_map:\n",
    "                label = label_map[folder]\n",
    "            else:\n",
    "                label = 29\n",
    "            for img_name in os.listdir(os.path.join(path, folder)):\n",
    "                img = cv2.imread(os.path.join(path, folder, img_name))\n",
    "                if img is not None:\n",
    "                    angle = np.random.uniform(-15, 15)\n",
    "                    height, width = img.shape[:2]\n",
    "                    rotation_matrix = cv2.getRotationMatrix2D((width/2, height/2), angle, 1)\n",
    "                    rotated_image = cv2.warpAffine(img, rotation_matrix, (width, height))\n",
    "                    if np.random.rand() > 0.5:\n",
    "                        flipped_image = cv2.flip(rotated_image, 1)\n",
    "                    else:\n",
    "                        flipped_image = rotated_image\n",
    "                    scale_factor = np.random.uniform(0.8, 1.2)\n",
    "                    zoomed_image = cv2.resize(flipped_image, None, fx=scale_factor, fy=scale_factor)\n",
    "                    alpha = np.random.uniform(0.8, 1.2)\n",
    "                    beta = np.random.uniform(-20, 20)\n",
    "                    brightness_contrast_image = cv2.convertScaleAbs(zoomed_image, alpha=alpha, beta=beta)\n",
    "                    img = skimage.transform.resize(brightness_contrast_image, (img_size, img_size, 3))\n",
    "                    img_arr = np.asarray(img).reshape((-1, img_size, img_size, 3))\n",
    "                    \n",
    "                    x[count] = img_arr\n",
    "                    Y[count] = label\n",
    "                    count += 1\n",
    "    return x, Y\n",
    "\n",
    "# Load in Data from directory\n",
    "x_train, Y_train = load_data(train_dir)"
   ]
  },
  {
   "cell_type": "markdown",
   "id": "6117373e",
   "metadata": {},
   "source": [
    "### Checking the data:"
   ]
  },
  {
   "cell_type": "code",
   "execution_count": 3,
   "id": "ce964c30",
   "metadata": {},
   "outputs": [
    {
     "name": "stdout",
     "output_type": "stream",
     "text": [
      "(87000, 64, 64, 3)\n",
      "(87000,)\n",
      "(64, 64, 3)\n"
     ]
    }
   ],
   "source": [
    "print(x_train.shape)\n",
    "print(Y_train.shape)\n",
    "print(x_train[12].shape)"
   ]
  },
  {
   "cell_type": "markdown",
   "id": "7e14c161",
   "metadata": {},
   "source": [
    "### View an image:"
   ]
  },
  {
   "cell_type": "code",
   "execution_count": 4,
   "id": "00a6063b",
   "metadata": {},
   "outputs": [
    {
     "data": {
      "text/plain": [
       "<function matplotlib.pyplot.show(close=None, block=None)>"
      ]
     },
     "execution_count": 4,
     "metadata": {},
     "output_type": "execute_result"
    },
    {
     "data": {
      "image/png": "[encoded data removed]",
      "text/plain": [
       "<Figure size 640x480 with 1 Axes>"
      ]
     },
     "metadata": {},
     "output_type": "display_data"
    }
   ],
   "source": [
    "plt.imshow(x_train[0])\n",
    "plt.show\n"
   ]
  },
  {
   "cell_type": "markdown",
   "id": "5706404a",
   "metadata": {},
   "source": [
    "# 1. Data Processing"
   ]
  },
  {
   "cell_type": "markdown",
   "id": "011b776b",
   "metadata": {},
   "source": [
    "## Train/Test Split\n"
   ]
  },
  {
   "cell_type": "code",
   "execution_count": 9,
   "id": "c313821c",
   "metadata": {},
   "outputs": [],
   "source": [
    "from sklearn.model_selection import train_test_split\n",
    "\n",
    "# making copies of original data\n",
    "x_data = x_train\n",
    "Y_data = Y_train\n",
    "\n",
    "# spliting the data and stratfying on Y\n",
    "xtrain, xtest, ytrain, ytest = train_test_split(x_data, Y_data, test_size=0.25, random_state=42, stratify=Y_data)\n",
    "X_train, X_val, y_train, y_val = train_test_split(xtrain, ytrain, test_size=0.2, random_state=42)"
   ]
  },
  {
   "cell_type": "markdown",
   "id": "c1f7b40f",
   "metadata": {},
   "source": [
    "### Categorical data"
   ]
  },
  {
   "cell_type": "code",
   "execution_count": 11,
   "id": "acec4620",
   "metadata": {},
   "outputs": [],
   "source": [
    "# Create Matrix\n",
    "from tensorflow.keras.utils import to_categorical\n",
    "ycat_train = to_categorical(ytrain, 29)\n",
    "ycat_test = to_categorical(ytest, 29)\n",
    "ycat_val = to_categorical(y_val, 29)"
   ]
  },
  {
   "cell_type": "markdown",
   "id": "6f8946b3",
   "metadata": {},
   "source": [
    "### Sanity Check"
   ]
  },
  {
   "cell_type": "code",
   "execution_count": 13,
   "id": "47992011",
   "metadata": {},
   "outputs": [
    {
     "name": "stdout",
     "output_type": "stream",
     "text": [
      "(65250, 64, 64, 3)\n",
      "(65250,)\n",
      "(21750, 64, 64, 3)\n",
      "[ 6  7 22 ...  7 28 13]\n",
      "(65250, 29)\n",
      "[[0. 0. 0. ... 0. 0. 0.]\n",
      " [0. 0. 0. ... 0. 0. 1.]\n",
      " [0. 0. 0. ... 0. 0. 0.]\n",
      " ...\n",
      " [0. 0. 0. ... 0. 0. 0.]\n",
      " [0. 1. 0. ... 0. 0. 0.]\n",
      " [0. 0. 0. ... 0. 0. 0.]]\n"
     ]
    }
   ],
   "source": [
    "# The dimensions should be correct\n",
    "print(xtrain.shape)\n",
    "print(ytrain.shape)\n",
    "print(xtest.shape)\n",
    "print(ytest)\n",
    "print(ycat_train.shape)\n",
    "print(ycat_val)"
   ]
  },
  {
   "cell_type": "markdown",
   "id": "9b60d980",
   "metadata": {},
   "source": [
    "# 2. Build a Sequential Model"
   ]
  },
  {
   "cell_type": "code",
   "execution_count": 14,
   "id": "ffee5b37",
   "metadata": {},
   "outputs": [],
   "source": [
    "# 3 layer model\n",
    "model = tf.keras.models.Sequential([\n",
    "    tf.keras.layers.Conv2D(32, (5, 5), activation=\"relu\", input_shape = (64, 64, 3)),\n",
    "    tf.keras.layers.MaxPooling2D(2, 2),\n",
    "    tf.keras.layers.Conv2D(64, (3, 3), activation=\"relu\"),\n",
    "    tf.keras.layers.MaxPooling2D(2, 2),\n",
    "    tf.keras.layers.Conv2D(64, (3, 3), activation=\"relu\"),\n",
    "    tf.keras.layers.MaxPooling2D(2, 2),\n",
    "    tf.keras.layers.Flatten(),\n",
    "    tf.keras.layers.Dense(128, activation=\"relu\"),\n",
    "    tf.keras.layers.Dense(29, activation=\"softmax\")\n",
    "])\n"
   ]
  },
  {
   "cell_type": "markdown",
   "id": "85c0535d",
   "metadata": {},
   "source": [
    "## Sanity Check Part 2"
   ]
  },
  {
   "cell_type": "code",
   "execution_count": 15,
   "id": "ee4db412",
   "metadata": {},
   "outputs": [
    {
     "name": "stdout",
     "output_type": "stream",
     "text": [
      "Model: \"sequential\"\n",
      "_________________________________________________________________\n",
      " Layer (type)                Output Shape              Param #   \n",
      "=================================================================\n",
      " conv2d (Conv2D)             (None, 60, 60, 32)        2432      \n",
      "                                                                 \n",
      " max_pooling2d (MaxPooling2D  (None, 30, 30, 32)       0         \n",
      " )                                                               \n",
      "                                                                 \n",
      " conv2d_1 (Conv2D)           (None, 28, 28, 64)        18496     \n",
      "                                                                 \n",
      " max_pooling2d_1 (MaxPooling  (None, 14, 14, 64)       0         \n",
      " 2D)                                                             \n",
      "                                                                 \n",
      " conv2d_2 (Conv2D)           (None, 12, 12, 64)        36928     \n",
      "                                                                 \n",
      " max_pooling2d_2 (MaxPooling  (None, 6, 6, 64)         0         \n",
      " 2D)                                                             \n",
      "                                                                 \n",
      " flatten (Flatten)           (None, 2304)              0         \n",
      "                                                                 \n",
      " dense (Dense)               (None, 128)               295040    \n",
      "                                                                 \n",
      " dense_1 (Dense)             (None, 29)                3741      \n",
      "                                                                 \n",
      "=================================================================\n",
      "Total params: 356,637\n",
      "Trainable params: 356,637\n",
      "Non-trainable params: 0\n",
      "_________________________________________________________________\n"
     ]
    }
   ],
   "source": [
    "model.summary()"
   ]
  },
  {
   "cell_type": "markdown",
   "id": "39788b81",
   "metadata": {},
   "source": [
    "## Model Compile"
   ]
  },
  {
   "cell_type": "code",
   "execution_count": 16,
   "id": "18063c05",
   "metadata": {},
   "outputs": [],
   "source": [
    "model.compile(\n",
    "    loss = 'categorical_crossentropy',\n",
    "    optimizer = 'adam',\n",
    "    metrics = ['accuracy']\n",
    ")"
   ]
  },
  {
   "cell_type": "markdown",
   "id": "df6a123c",
   "metadata": {},
   "source": [
    "# 3. Model Fitting"
   ]
  },
  {
   "cell_type": "markdown",
   "id": "25bc7a45",
   "metadata": {},
   "source": [
    "## Import early stops"
   ]
  },
  {
   "cell_type": "code",
   "execution_count": 17,
   "id": "e0b5ec0f",
   "metadata": {},
   "outputs": [],
   "source": [
    "from tensorflow.keras.callbacks import EarlyStopping\n",
    "stop_the_train = EarlyStopping(monitor = 'val_loss', patience = 2)"
   ]
  },
  {
   "cell_type": "markdown",
   "id": "81b3a674",
   "metadata": {},
   "source": [
    "## Input data into model\n"
   ]
  },
  {
   "cell_type": "code",
   "execution_count": 41,
   "id": "9682fc29",
   "metadata": {},
   "outputs": [
    {
     "ename": "ValueError",
     "evalue": "Found array with dim 4. BaggingClassifier expected <= 2.",
     "output_type": "error",
     "traceback": [
      "\u001b[1;31m---------------------------------------------------------------------------\u001b[0m",
      "\u001b[1;31mValueError\u001b[0m                                Traceback (most recent call last)",
      "\u001b[1;32mc:\\Users\\yibol\\projects\\ASLtranslator\\ASLtoEnglish\\ModelTraining\\ModelTrain.ipynb Cell 27\u001b[0m in \u001b[0;36m1\n\u001b[0;32m      <a href='vscode-notebook-cell:/c%3A/Users/yibol/projects/ASLtranslator/ASLtoEnglish/ModelTraining/ModelTrain.ipynb#X35sZmlsZQ%3D%3D?line=0'>1</a>\u001b[0m \u001b[39m# The part where the computer does all the work :)\u001b[39;00m\n\u001b[0;32m      <a href='vscode-notebook-cell:/c%3A/Users/yibol/projects/ASLtranslator/ASLtoEnglish/ModelTraining/ModelTrain.ipynb#X35sZmlsZQ%3D%3D?line=1'>2</a>\u001b[0m \n\u001b[0;32m      <a href='vscode-notebook-cell:/c%3A/Users/yibol/projects/ASLtranslator/ASLtoEnglish/ModelTraining/ModelTrain.ipynb#X35sZmlsZQ%3D%3D?line=2'>3</a>\u001b[0m \u001b[39m# Bagging attempt\u001b[39;00m\n\u001b[0;32m      <a href='vscode-notebook-cell:/c%3A/Users/yibol/projects/ASLtranslator/ASLtoEnglish/ModelTraining/ModelTrain.ipynb#X35sZmlsZQ%3D%3D?line=3'>4</a>\u001b[0m bagging_model \u001b[39m=\u001b[39m BaggingClassifier(\n\u001b[0;32m      <a href='vscode-notebook-cell:/c%3A/Users/yibol/projects/ASLtranslator/ASLtoEnglish/ModelTraining/ModelTrain.ipynb#X35sZmlsZQ%3D%3D?line=4'>5</a>\u001b[0m     model,\n\u001b[0;32m      <a href='vscode-notebook-cell:/c%3A/Users/yibol/projects/ASLtranslator/ASLtoEnglish/ModelTraining/ModelTrain.ipynb#X35sZmlsZQ%3D%3D?line=5'>6</a>\u001b[0m     n_estimators\u001b[39m=\u001b[39m\u001b[39m10\u001b[39m,  \u001b[39m# Number of base estimators (models) to use in the ensemble\u001b[39;00m\n\u001b[0;32m      <a href='vscode-notebook-cell:/c%3A/Users/yibol/projects/ASLtranslator/ASLtoEnglish/ModelTraining/ModelTrain.ipynb#X35sZmlsZQ%3D%3D?line=6'>7</a>\u001b[0m     max_samples\u001b[39m=\u001b[39m\u001b[39m0.8\u001b[39m,  \u001b[39m# Fraction of samples to use for each base estimator\u001b[39;00m\n\u001b[0;32m      <a href='vscode-notebook-cell:/c%3A/Users/yibol/projects/ASLtranslator/ASLtoEnglish/ModelTraining/ModelTrain.ipynb#X35sZmlsZQ%3D%3D?line=7'>8</a>\u001b[0m     random_state\u001b[39m=\u001b[39m\u001b[39m42\u001b[39m\n\u001b[0;32m      <a href='vscode-notebook-cell:/c%3A/Users/yibol/projects/ASLtranslator/ASLtoEnglish/ModelTraining/ModelTrain.ipynb#X35sZmlsZQ%3D%3D?line=8'>9</a>\u001b[0m )\n\u001b[1;32m---> <a href='vscode-notebook-cell:/c%3A/Users/yibol/projects/ASLtranslator/ASLtoEnglish/ModelTraining/ModelTrain.ipynb#X35sZmlsZQ%3D%3D?line=10'>11</a>\u001b[0m bagging_model\u001b[39m.\u001b[39;49mfit(xtrain, ycat_train)\n",
      "File \u001b[1;32mc:\\Users\\yibol\\projects\\ASLtranslator\\venv1\\lib\\site-packages\\sklearn\\ensemble\\_bagging.py:289\u001b[0m, in \u001b[0;36mBaseBagging.fit\u001b[1;34m(self, X, y, sample_weight)\u001b[0m\n\u001b[0;32m    266\u001b[0m \u001b[39m\"\"\"Build a Bagging ensemble of estimators from the training set (X, y).\u001b[39;00m\n\u001b[0;32m    267\u001b[0m \n\u001b[0;32m    268\u001b[0m \u001b[39mParameters\u001b[39;00m\n\u001b[1;32m   (...)\u001b[0m\n\u001b[0;32m    286\u001b[0m \u001b[39m    Fitted estimator.\u001b[39;00m\n\u001b[0;32m    287\u001b[0m \u001b[39m\"\"\"\u001b[39;00m\n\u001b[0;32m    288\u001b[0m \u001b[39m# Convert data (X is required to be 2d and indexable)\u001b[39;00m\n\u001b[1;32m--> 289\u001b[0m X, y \u001b[39m=\u001b[39m \u001b[39mself\u001b[39;49m\u001b[39m.\u001b[39;49m_validate_data(\n\u001b[0;32m    290\u001b[0m     X,\n\u001b[0;32m    291\u001b[0m     y,\n\u001b[0;32m    292\u001b[0m     accept_sparse\u001b[39m=\u001b[39;49m[\u001b[39m\"\u001b[39;49m\u001b[39mcsr\u001b[39;49m\u001b[39m\"\u001b[39;49m, \u001b[39m\"\u001b[39;49m\u001b[39mcsc\u001b[39;49m\u001b[39m\"\u001b[39;49m],\n\u001b[0;32m    293\u001b[0m     dtype\u001b[39m=\u001b[39;49m\u001b[39mNone\u001b[39;49;00m,\n\u001b[0;32m    294\u001b[0m     force_all_finite\u001b[39m=\u001b[39;49m\u001b[39mFalse\u001b[39;49;00m,\n\u001b[0;32m    295\u001b[0m     multi_output\u001b[39m=\u001b[39;49m\u001b[39mTrue\u001b[39;49;00m,\n\u001b[0;32m    296\u001b[0m )\n\u001b[0;32m    297\u001b[0m \u001b[39mreturn\u001b[39;00m \u001b[39mself\u001b[39m\u001b[39m.\u001b[39m_fit(X, y, \u001b[39mself\u001b[39m\u001b[39m.\u001b[39mmax_samples, sample_weight\u001b[39m=\u001b[39msample_weight)\n",
      "File \u001b[1;32mc:\\Users\\yibol\\projects\\ASLtranslator\\venv1\\lib\\site-packages\\sklearn\\base.py:596\u001b[0m, in \u001b[0;36mBaseEstimator._validate_data\u001b[1;34m(self, X, y, reset, validate_separately, **check_params)\u001b[0m\n\u001b[0;32m    594\u001b[0m         y \u001b[39m=\u001b[39m check_array(y, input_name\u001b[39m=\u001b[39m\u001b[39m\"\u001b[39m\u001b[39my\u001b[39m\u001b[39m\"\u001b[39m, \u001b[39m*\u001b[39m\u001b[39m*\u001b[39mcheck_y_params)\n\u001b[0;32m    595\u001b[0m     \u001b[39melse\u001b[39;00m:\n\u001b[1;32m--> 596\u001b[0m         X, y \u001b[39m=\u001b[39m check_X_y(X, y, \u001b[39m*\u001b[39;49m\u001b[39m*\u001b[39;49mcheck_params)\n\u001b[0;32m    597\u001b[0m     out \u001b[39m=\u001b[39m X, y\n\u001b[0;32m    599\u001b[0m \u001b[39mif\u001b[39;00m \u001b[39mnot\u001b[39;00m no_val_X \u001b[39mand\u001b[39;00m check_params\u001b[39m.\u001b[39mget(\u001b[39m\"\u001b[39m\u001b[39mensure_2d\u001b[39m\u001b[39m\"\u001b[39m, \u001b[39mTrue\u001b[39;00m):\n",
      "File \u001b[1;32mc:\\Users\\yibol\\projects\\ASLtranslator\\venv1\\lib\\site-packages\\sklearn\\utils\\validation.py:1074\u001b[0m, in \u001b[0;36mcheck_X_y\u001b[1;34m(X, y, accept_sparse, accept_large_sparse, dtype, order, copy, force_all_finite, ensure_2d, allow_nd, multi_output, ensure_min_samples, ensure_min_features, y_numeric, estimator)\u001b[0m\n\u001b[0;32m   1069\u001b[0m         estimator_name \u001b[39m=\u001b[39m _check_estimator_name(estimator)\n\u001b[0;32m   1070\u001b[0m     \u001b[39mraise\u001b[39;00m \u001b[39mValueError\u001b[39;00m(\n\u001b[0;32m   1071\u001b[0m         \u001b[39mf\u001b[39m\u001b[39m\"\u001b[39m\u001b[39m{\u001b[39;00mestimator_name\u001b[39m}\u001b[39;00m\u001b[39m requires y to be passed, but the target y is None\u001b[39m\u001b[39m\"\u001b[39m\n\u001b[0;32m   1072\u001b[0m     )\n\u001b[1;32m-> 1074\u001b[0m X \u001b[39m=\u001b[39m check_array(\n\u001b[0;32m   1075\u001b[0m     X,\n\u001b[0;32m   1076\u001b[0m     accept_sparse\u001b[39m=\u001b[39;49maccept_sparse,\n\u001b[0;32m   1077\u001b[0m     accept_large_sparse\u001b[39m=\u001b[39;49maccept_large_sparse,\n\u001b[0;32m   1078\u001b[0m     dtype\u001b[39m=\u001b[39;49mdtype,\n\u001b[0;32m   1079\u001b[0m     order\u001b[39m=\u001b[39;49morder,\n\u001b[0;32m   1080\u001b[0m     copy\u001b[39m=\u001b[39;49mcopy,\n\u001b[0;32m   1081\u001b[0m     force_all_finite\u001b[39m=\u001b[39;49mforce_all_finite,\n\u001b[0;32m   1082\u001b[0m     ensure_2d\u001b[39m=\u001b[39;49mensure_2d,\n\u001b[0;32m   1083\u001b[0m     allow_nd\u001b[39m=\u001b[39;49mallow_nd,\n\u001b[0;32m   1084\u001b[0m     ensure_min_samples\u001b[39m=\u001b[39;49mensure_min_samples,\n\u001b[0;32m   1085\u001b[0m     ensure_min_features\u001b[39m=\u001b[39;49mensure_min_features,\n\u001b[0;32m   1086\u001b[0m     estimator\u001b[39m=\u001b[39;49mestimator,\n\u001b[0;32m   1087\u001b[0m     input_name\u001b[39m=\u001b[39;49m\u001b[39m\"\u001b[39;49m\u001b[39mX\u001b[39;49m\u001b[39m\"\u001b[39;49m,\n\u001b[0;32m   1088\u001b[0m )\n\u001b[0;32m   1090\u001b[0m y \u001b[39m=\u001b[39m _check_y(y, multi_output\u001b[39m=\u001b[39mmulti_output, y_numeric\u001b[39m=\u001b[39my_numeric, estimator\u001b[39m=\u001b[39mestimator)\n\u001b[0;32m   1092\u001b[0m check_consistent_length(X, y)\n",
      "File \u001b[1;32mc:\\Users\\yibol\\projects\\ASLtranslator\\venv1\\lib\\site-packages\\sklearn\\utils\\validation.py:893\u001b[0m, in \u001b[0;36mcheck_array\u001b[1;34m(array, accept_sparse, accept_large_sparse, dtype, order, copy, force_all_finite, ensure_2d, allow_nd, ensure_min_samples, ensure_min_features, estimator, input_name)\u001b[0m\n\u001b[0;32m    887\u001b[0m     \u001b[39mraise\u001b[39;00m \u001b[39mValueError\u001b[39;00m(\n\u001b[0;32m    888\u001b[0m         \u001b[39m\"\u001b[39m\u001b[39mdtype=\u001b[39m\u001b[39m'\u001b[39m\u001b[39mnumeric\u001b[39m\u001b[39m'\u001b[39m\u001b[39m is not compatible with arrays of bytes/strings.\u001b[39m\u001b[39m\"\u001b[39m\n\u001b[0;32m    889\u001b[0m         \u001b[39m\"\u001b[39m\u001b[39mConvert your data to numeric values explicitly instead.\u001b[39m\u001b[39m\"\u001b[39m\n\u001b[0;32m    890\u001b[0m     )\n\u001b[0;32m    892\u001b[0m \u001b[39mif\u001b[39;00m \u001b[39mnot\u001b[39;00m allow_nd \u001b[39mand\u001b[39;00m array\u001b[39m.\u001b[39mndim \u001b[39m>\u001b[39m\u001b[39m=\u001b[39m \u001b[39m3\u001b[39m:\n\u001b[1;32m--> 893\u001b[0m     \u001b[39mraise\u001b[39;00m \u001b[39mValueError\u001b[39;00m(\n\u001b[0;32m    894\u001b[0m         \u001b[39m\"\u001b[39m\u001b[39mFound array with dim \u001b[39m\u001b[39m%d\u001b[39;00m\u001b[39m. \u001b[39m\u001b[39m%s\u001b[39;00m\u001b[39m expected <= 2.\u001b[39m\u001b[39m\"\u001b[39m\n\u001b[0;32m    895\u001b[0m         \u001b[39m%\u001b[39m (array\u001b[39m.\u001b[39mndim, estimator_name)\n\u001b[0;32m    896\u001b[0m     )\n\u001b[0;32m    898\u001b[0m \u001b[39mif\u001b[39;00m force_all_finite:\n\u001b[0;32m    899\u001b[0m     _assert_all_finite(\n\u001b[0;32m    900\u001b[0m         array,\n\u001b[0;32m    901\u001b[0m         input_name\u001b[39m=\u001b[39minput_name,\n\u001b[0;32m    902\u001b[0m         estimator_name\u001b[39m=\u001b[39mestimator_name,\n\u001b[0;32m    903\u001b[0m         allow_nan\u001b[39m=\u001b[39mforce_all_finite \u001b[39m==\u001b[39m \u001b[39m\"\u001b[39m\u001b[39mallow-nan\u001b[39m\u001b[39m\"\u001b[39m,\n\u001b[0;32m    904\u001b[0m     )\n",
      "\u001b[1;31mValueError\u001b[0m: Found array with dim 4. BaggingClassifier expected <= 2."
     ]
    }
   ],
   "source": [
    "# The part where the computer does all the work :)\n",
    "\n",
    "model.fit(\n",
    "    xtrain, ycat_train,\n",
    "    epochs=20,\n",
    "    batch_size=64,\n",
    "    verbose=2,\n",
    "    validation_data=(X_val, ycat_val),\n",
    "    callbacks=[stop_the_train]\n",
    ")"
   ]
  },
  {
   "cell_type": "markdown",
   "id": "49411a99",
   "metadata": {},
   "source": [
    "## Metrics\n",
    "\n"
   ]
  },
  {
   "cell_type": "code",
   "execution_count": 31,
   "id": "ade238ee",
   "metadata": {},
   "outputs": [
    {
     "data": {
      "text/html": [
       "<div>\n",
       "<style scoped>\n",
       "    .dataframe tbody tr th:only-of-type {\n",
       "        vertical-align: middle;\n",
       "    }\n",
       "\n",
       "    .dataframe tbody tr th {\n",
       "        vertical-align: top;\n",
       "    }\n",
       "\n",
       "    .dataframe thead th {\n",
       "        text-align: right;\n",
       "    }\n",
       "</style>\n",
       "<table border=\"1\" class=\"dataframe\">\n",
       "  <thead>\n",
       "    <tr style=\"text-align: right;\">\n",
       "      <th></th>\n",
       "      <th>loss</th>\n",
       "      <th>accuracy</th>\n",
       "      <th>val_loss</th>\n",
       "      <th>val_accuracy</th>\n",
       "    </tr>\n",
       "  </thead>\n",
       "  <tbody>\n",
       "    <tr>\n",
       "      <th>0</th>\n",
       "      <td>1.512570</td>\n",
       "      <td>0.541012</td>\n",
       "      <td>0.669313</td>\n",
       "      <td>0.781379</td>\n",
       "    </tr>\n",
       "    <tr>\n",
       "      <th>1</th>\n",
       "      <td>0.459636</td>\n",
       "      <td>0.848444</td>\n",
       "      <td>0.280205</td>\n",
       "      <td>0.908889</td>\n",
       "    </tr>\n",
       "    <tr>\n",
       "      <th>2</th>\n",
       "      <td>0.248182</td>\n",
       "      <td>0.917333</td>\n",
       "      <td>0.165579</td>\n",
       "      <td>0.946130</td>\n",
       "    </tr>\n",
       "    <tr>\n",
       "      <th>3</th>\n",
       "      <td>0.157177</td>\n",
       "      <td>0.947295</td>\n",
       "      <td>0.116642</td>\n",
       "      <td>0.965134</td>\n",
       "    </tr>\n",
       "    <tr>\n",
       "      <th>4</th>\n",
       "      <td>0.120550</td>\n",
       "      <td>0.960674</td>\n",
       "      <td>0.081423</td>\n",
       "      <td>0.973563</td>\n",
       "    </tr>\n",
       "    <tr>\n",
       "      <th>5</th>\n",
       "      <td>0.093827</td>\n",
       "      <td>0.968429</td>\n",
       "      <td>0.091942</td>\n",
       "      <td>0.969119</td>\n",
       "    </tr>\n",
       "    <tr>\n",
       "      <th>6</th>\n",
       "      <td>0.078958</td>\n",
       "      <td>0.974054</td>\n",
       "      <td>0.052822</td>\n",
       "      <td>0.983065</td>\n",
       "    </tr>\n",
       "    <tr>\n",
       "      <th>7</th>\n",
       "      <td>0.068172</td>\n",
       "      <td>0.977609</td>\n",
       "      <td>0.063219</td>\n",
       "      <td>0.979004</td>\n",
       "    </tr>\n",
       "    <tr>\n",
       "      <th>8</th>\n",
       "      <td>0.068423</td>\n",
       "      <td>0.978222</td>\n",
       "      <td>0.069298</td>\n",
       "      <td>0.976935</td>\n",
       "    </tr>\n",
       "  </tbody>\n",
       "</table>\n",
       "</div>"
      ],
      "text/plain": [
       "       loss  accuracy  val_loss  val_accuracy\n",
       "0  1.512570  0.541012  0.669313      0.781379\n",
       "1  0.459636  0.848444  0.280205      0.908889\n",
       "2  0.248182  0.917333  0.165579      0.946130\n",
       "3  0.157177  0.947295  0.116642      0.965134\n",
       "4  0.120550  0.960674  0.081423      0.973563\n",
       "5  0.093827  0.968429  0.091942      0.969119\n",
       "6  0.078958  0.974054  0.052822      0.983065\n",
       "7  0.068172  0.977609  0.063219      0.979004\n",
       "8  0.068423  0.978222  0.069298      0.976935"
      ]
     },
     "execution_count": 31,
     "metadata": {},
     "output_type": "execute_result"
    }
   ],
   "source": [
    "# Creating a table for the loss/acc\n",
    "pd.DataFrame(model.history.history)"
   ]
  },
  {
   "cell_type": "code",
   "execution_count": 32,
   "id": "86b054c8",
   "metadata": {},
   "outputs": [
    {
     "data": {
      "image/png": "[encoded data removed]",
      "text/plain": [
       "<Figure size 640x480 with 1 Axes>"
      ]
     },
     "metadata": {},
     "output_type": "display_data"
    },
    {
     "data": {
      "image/png": "[encoded data removed]",
      "text/plain": [
       "<Figure size 640x480 with 1 Axes>"
      ]
     },
     "metadata": {},
     "output_type": "display_data"
    }
   ],
   "source": [
    "# visualization of loss and accuracy\n",
    "pd.DataFrame(model.history.history)[['loss', 'val_loss']].plot()\n",
    "pd.DataFrame(model.history.history)[['accuracy', 'val_accuracy']].plot()\n",
    "plt.show()"
   ]
  },
  {
   "cell_type": "markdown",
   "id": "c3655253",
   "metadata": {},
   "source": [
    "# 4. Model Validation"
   ]
  },
  {
   "cell_type": "code",
   "execution_count": 33,
   "id": "bcb2c327",
   "metadata": {},
   "outputs": [
    {
     "name": "stdout",
     "output_type": "stream",
     "text": [
      "680/680 [==============================] - 7s 11ms/step\n"
     ]
    }
   ],
   "source": [
    "# Making Predictions\n",
    "predict = np.argmax(model.predict(xtest), axis=-1)"
   ]
  },
  {
   "cell_type": "markdown",
   "id": "53aba86c",
   "metadata": {},
   "source": [
    "## Testing against the test response"
   ]
  },
  {
   "cell_type": "code",
   "execution_count": 34,
   "id": "e15601a7",
   "metadata": {},
   "outputs": [
    {
     "name": "stdout",
     "output_type": "stream",
     "text": [
      "              precision    recall  f1-score   support\n",
      "\n",
      "           0       0.96      0.93      0.95       750\n",
      "           1       0.97      0.93      0.95       750\n",
      "           2       1.00      0.99      0.99       750\n",
      "           3       0.97      0.98      0.98       750\n",
      "           4       0.96      0.94      0.95       750\n",
      "           5       0.99      0.99      0.99       750\n",
      "           6       0.95      0.99      0.97       750\n",
      "           7       0.99      0.97      0.98       750\n",
      "           8       0.92      0.97      0.95       750\n",
      "           9       0.98      0.96      0.97       750\n",
      "          10       0.93      0.95      0.94       750\n",
      "          11       0.99      0.97      0.98       750\n",
      "          12       0.89      0.94      0.92       750\n",
      "          13       0.98      0.89      0.93       750\n",
      "          14       0.99      0.97      0.98       750\n",
      "          15       0.98      0.97      0.97       750\n",
      "          16       0.98      0.97      0.97       750\n",
      "          17       0.76      0.97      0.86       750\n",
      "          18       0.93      0.92      0.92       750\n",
      "          19       0.96      0.95      0.96       750\n",
      "          20       0.98      0.74      0.84       750\n",
      "          21       0.82      0.93      0.87       750\n",
      "          22       0.95      0.90      0.92       750\n",
      "          23       0.94      0.91      0.93       750\n",
      "          24       0.94      0.98      0.96       750\n",
      "          25       0.97      0.95      0.96       750\n",
      "          26       0.98      0.98      0.98       750\n",
      "          27       0.98      0.99      0.98       750\n",
      "          28       1.00      1.00      1.00       750\n",
      "\n",
      "    accuracy                           0.95     21750\n",
      "   macro avg       0.95      0.95      0.95     21750\n",
      "weighted avg       0.95      0.95      0.95     21750\n",
      "\n"
     ]
    }
   ],
   "source": [
    "from sklearn.metrics import classification_report\n",
    "print(classification_report(ytest, predict))"
   ]
  },
  {
   "cell_type": "markdown",
   "id": "5eb14fda",
   "metadata": {},
   "source": [
    "## Confusion matrix"
   ]
  },
  {
   "cell_type": "code",
   "execution_count": 35,
   "id": "5ef0cf81",
   "metadata": {},
   "outputs": [
    {
     "data": {
      "image/png": "[encoded data removed]",
      "text/plain": [
       "<Figure size 1200x1200 with 2 Axes>"
      ]
     },
     "metadata": {},
     "output_type": "display_data"
    }
   ],
   "source": [
    "from sklearn.metrics import confusion_matrix\n",
    "plt.figure(figsize=(12,12))\n",
    "sns.heatmap(confusion_matrix(ytest, predict))\n",
    "plt.show()"
   ]
  },
  {
   "cell_type": "markdown",
   "id": "905f3b25",
   "metadata": {},
   "source": [
    "# iii. Save Model"
   ]
  },
  {
   "cell_type": "code",
   "execution_count": 36,
   "id": "48f917a1",
   "metadata": {},
   "outputs": [],
   "source": [
    "from keras.models import load_model\n",
    "model.save(\"Model_asl2.model\", save_format = \"h5\")"
   ]
  }
 ],
 "metadata": {
  "kernelspec": {
   "display_name": "venv1",
   "language": "python",
   "name": "python3"
  },
  "language_info": {
   "codemirror_mode": {
    "name": "ipython",
    "version": 3
   },
   "file_extension": ".py",
   "mimetype": "text/x-python",
   "name": "python",
   "nbconvert_exporter": "python",
   "pygments_lexer": "ipython3",
   "version": "3.8.8"
  },
  "vscode": {
   "interpreter": {
    "hash": "608e6ed4cb8cfb65b0db19dd554604e531b6f9d2bdb72be3156ba6bc65e3d0ce"
   }
  }
 },
 "nbformat": 4,
 "nbformat_minor": 5
}
