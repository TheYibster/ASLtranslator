{
 "cells": [
  {
   "cell_type": "markdown",
   "id": "e2f992d1",
   "metadata": {},
   "source": [
    "# Model Training"
   ]
  },
  {
   "cell_type": "markdown",
   "id": "164c5ec9",
   "metadata": {},
   "source": [
    "## i. Importing packages"
   ]
  },
  {
   "cell_type": "code",
   "execution_count": 1,
   "id": "c872ca1e",
   "metadata": {},
   "outputs": [
    {
     "name": "stdout",
     "output_type": "stream",
     "text": [
      "Import Successful\n"
     ]
    }
   ],
   "source": [
    "import numpy as np\n",
    "import pandas as pd\n",
    "import seaborn as sns\n",
    "import matplotlib.pyplot as plt\n",
    "import cv2\n",
    "import skimage\n",
    "from skimage.transform import resize\n",
    "import tensorflow as tf\n",
    "from tensorflow import keras\n",
    "import os\n",
    "\n",
    "print(\"Import Successful\")"
   ]
  },
  {
   "cell_type": "code",
   "execution_count": null,
   "id": "bfff0843",
   "metadata": {},
   "outputs": [],
   "source": [
    "ii. Loading dataset"
   ]
  }
 ],
 "metadata": {
  "kernelspec": {
   "display_name": "venv1kernel",
   "language": "python",
   "name": "venv1kernel"
  },
  "language_info": {
   "codemirror_mode": {
    "name": "ipython",
    "version": 3
   },
   "file_extension": ".py",
   "mimetype": "text/x-python",
   "name": "python",
   "nbconvert_exporter": "python",
   "pygments_lexer": "ipython3",
   "version": "3.8.8"
  }
 },
 "nbformat": 4,
 "nbformat_minor": 5
}
