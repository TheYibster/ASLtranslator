{
 "cells": [
  {
   "cell_type": "markdown",
   "id": "e2f992d1",
   "metadata": {},
   "source": [
    "# Model Training"
   ]
  },
  {
   "cell_type": "markdown",
   "id": "164c5ec9",
   "metadata": {},
   "source": [
    "## i. Importing packages"
   ]
  },
  {
   "cell_type": "code",
   "execution_count": 5,
   "id": "c872ca1e",
   "metadata": {},
   "outputs": [
    {
     "name": "stdout",
     "output_type": "stream",
     "text": [
      "Import Successful\n"
     ]
    }
   ],
   "source": [
    "import numpy as np\n",
    "import pandas as pd\n",
    "import seaborn as sns\n",
    "import matplotlib.pyplot as plt\n",
    "import cv2\n",
    "import skimage\n",
    "from skimage.transform import resize\n",
    "\n",
    "import tensorflow as tf\n",
    "from tensorflow import keras\n",
    "import os\n",
    "\n",
    "print(\"Import Successful\")"
   ]
  },
  {
   "cell_type": "markdown",
   "id": "fc188055",
   "metadata": {},
   "source": [
    "## ii. Loading dataset"
   ]
  },
  {
   "cell_type": "code",
   "execution_count": 15,
   "id": "6608900b",
   "metadata": {},
   "outputs": [],
   "source": [
    "img_size = 64\n",
    "target_dims = (img_size, img_size, 3)\n",
    "n_size = 29\n",
    "train_size = 87000\n",
    "\n",
    "# using os.path here since our os are mismatched\n",
    "nb_path = os.getcwd()\n",
    "train_dir = os.path.join(nb_path, 'asl_alphabet_train')\n",
    "\n",
    "def load_data(path):\n",
    "    x = np.empty((train_size, img_size, img_size, 3), dtype = np.float32)\n",
    "    Y = np.empty((train_size, ), dtype = int)\n",
    "    label_map = {'A': 0, 'B': 1, 'C': 2, 'D': 3, 'E': 4, 'F': 5, 'G': 6, 'H': 7, 'I': 8, 'J': 9, 'K': 10, 'L': 11, 'M': 12, 'N': 13, 'O': 14, 'P': 15, 'Q': 16, 'R': 17, 'S': 18, 'T': 19, 'U': 20, 'V': 21, 'W': 22, 'X': 23, 'Y': 24, 'Z': 25, 'del': 26, 'space': 27, 'nothing': 28}\n",
    "    count = 0\n",
    "    for folder in os.listdir(path):\n",
    "        if not folder.startswith('.'):\n",
    "            if folder in label_map:\n",
    "                label = label_map[folder]\n",
    "            else:\n",
    "                label = 29\n",
    "            for img_name in os.listdir(os.path.join(path, folder)):\n",
    "                img = cv2.imread(os.path.join(path, folder, img_name))\n",
    "                if img is not None:\n",
    "                    img = skimage.transform.resize(img, (img_size, img_size, 3))\n",
    "                    img_arr = np.asarray(img).reshape((-1, img_size, img_size, 3))\n",
    "                    \n",
    "                    x[count] = img_arr\n",
    "                    Y[count] = label\n",
    "                    count += 1\n",
    "    return x, Y\n",
    "\n",
    "# Load in Data from directory\n",
    "x_train, Y_train = load_data(train_dir)"
   ]
  },
  {
   "cell_type": "markdown",
   "id": "6117373e",
   "metadata": {},
   "source": [
    "### Checking the data:"
   ]
  },
  {
   "cell_type": "code",
   "execution_count": 16,
   "id": "ce964c30",
   "metadata": {},
   "outputs": [
    {
     "name": "stdout",
     "output_type": "stream",
     "text": [
      "(87000, 64, 64, 3)\n",
      "(87000,)\n",
      "(64, 64, 3)\n"
     ]
    }
   ],
   "source": [
    "print(x_train.shape)\n",
    "print(Y_train.shape)\n",
    "print(x_train[12].shape)"
   ]
  },
  {
   "cell_type": "markdown",
   "id": "7e14c161",
   "metadata": {},
   "source": [
    "### View an image:"
   ]
  },
  {
   "cell_type": "code",
   "execution_count": 14,
   "id": "00a6063b",
   "metadata": {},
   "outputs": [
    {
     "name": "stdout",
     "output_type": "stream",
     "text": [
      "0\n"
     ]
    },
    {
     "data": {
      "image/png": "[encoded data removed]",
      "text/plain": [
       "<Figure size 640x480 with 1 Axes>"
      ]
     },
     "metadata": {},
     "output_type": "display_data"
    }
   ],
   "source": [
    "plt.imshow(x_train[0])\n",
    "plt.show\n"
   ]
  },
  {
   "cell_type": "markdown",
   "id": "5706404a",
   "metadata": {},
   "source": [
    "# 1. Data Processing"
   ]
  },
  {
   "cell_type": "markdown",
   "id": "011b776b",
   "metadata": {},
   "source": [
    "## Train/Test Split\n"
   ]
  },
  {
   "cell_type": "code",
   "execution_count": 17,
   "id": "c313821c",
   "metadata": {},
   "outputs": [],
   "source": [
    "from sklearn.model_selection import train_test_split\n",
    "\n",
    "# making copies of original data\n",
    "x_data = x_train\n",
    "Y_data = Y_train\n",
    "\n",
    "# spliting the data and stratfying on Y\n",
    "xtrain, xtest, ytrain, ytest = train_test_split(x_data, Y_data, test_size=0.25, random_state=42, stratify=Y_data)"
   ]
  },
  {
   "cell_type": "markdown",
   "id": "c1f7b40f",
   "metadata": {},
   "source": [
    "### Categorical data"
   ]
  },
  {
   "cell_type": "code",
   "execution_count": 46,
   "id": "acec4620",
   "metadata": {},
   "outputs": [],
   "source": [
    "# Create Matrix\n",
    "from tensorflow.keras.utils import to_categorical\n",
    "ycat_train = to_categorical(ytrain, 29)\n",
    "ycat_test = to_categorical(ytest, 29)"
   ]
  },
  {
   "cell_type": "markdown",
   "id": "6f8946b3",
   "metadata": {},
   "source": [
    "### Sanity Check"
   ]
  },
  {
   "cell_type": "code",
   "execution_count": 45,
   "id": "47992011",
   "metadata": {},
   "outputs": [
    {
     "name": "stdout",
     "output_type": "stream",
     "text": [
      "(65250, 64, 64, 3)\n",
      "(65250,)\n",
      "(21750, 64, 64, 3)\n",
      "(21750,)\n",
      "(65250, 29)\n",
      "(21750, 29)\n"
     ]
    }
   ],
   "source": [
    "# The dimensions should be correct\n",
    "print(xtrain.shape)\n",
    "print(ytrain.shape)\n",
    "print(xtest.shape)\n",
    "print(ytest.shape)\n",
    "print(ycat_train.shape)\n",
    "print(ycat_test.shape)"
   ]
  },
  {
   "cell_type": "markdown",
   "id": "9b60d980",
   "metadata": {},
   "source": [
    "# 2. Build a Sequential Model"
   ]
  },
  {
   "cell_type": "code",
   "execution_count": 32,
   "id": "ffee5b37",
   "metadata": {},
   "outputs": [],
   "source": [
    "# 3 layer model\n",
    "model = tf.keras.models.Sequential([\n",
    "    tf.keras.layers.Conv2D(64, (3, 3), activation=\"relu\", input_shape = (64, 64, 3)),\n",
    "    tf.keras.layers.MaxPooling2D(2, 2),\n",
    "    tf.keras.layers.Conv2D(64, (3, 3), activation=\"relu\"),\n",
    "    tf.keras.layers.MaxPooling2D(2, 2),\n",
    "    tf.keras.layers.Flatten(),\n",
    "    tf.keras.layers.Dense(128, activation=\"relu\"),\n",
    "    tf.keras.layers.Dense(29, activation=\"softmax\")\n",
    "])\n"
   ]
  },
  {
   "cell_type": "markdown",
   "id": "85c0535d",
   "metadata": {},
   "source": [
    "## Sanity Check Part 2"
   ]
  },
  {
   "cell_type": "code",
   "execution_count": 33,
   "id": "ee4db412",
   "metadata": {},
   "outputs": [
    {
     "name": "stdout",
     "output_type": "stream",
     "text": [
      "Model: \"sequential_8\"\n",
      "_________________________________________________________________\n",
      " Layer (type)                Output Shape              Param #   \n",
      "=================================================================\n",
      " conv2d_17 (Conv2D)          (None, 62, 62, 64)        1792      \n",
      "                                                                 \n",
      " max_pooling2d_17 (MaxPoolin  (None, 31, 31, 64)       0         \n",
      " g2D)                                                            \n",
      "                                                                 \n",
      " conv2d_18 (Conv2D)          (None, 29, 29, 64)        36928     \n",
      "                                                                 \n",
      " max_pooling2d_18 (MaxPoolin  (None, 14, 14, 64)       0         \n",
      " g2D)                                                            \n",
      "                                                                 \n",
      " flatten_8 (Flatten)         (None, 12544)             0         \n",
      "                                                                 \n",
      " dense_16 (Dense)            (None, 128)               1605760   \n",
      "                                                                 \n",
      " dense_17 (Dense)            (None, 29)                3741      \n",
      "                                                                 \n",
      "=================================================================\n",
      "Total params: 1,648,221\n",
      "Trainable params: 1,648,221\n",
      "Non-trainable params: 0\n",
      "_________________________________________________________________\n"
     ]
    }
   ],
   "source": [
    "model.summary()"
   ]
  },
  {
   "cell_type": "markdown",
   "id": "39788b81",
   "metadata": {},
   "source": [
    "## Model Compile"
   ]
  },
  {
   "cell_type": "code",
   "execution_count": 34,
   "id": "18063c05",
   "metadata": {},
   "outputs": [],
   "source": [
    "model.compile(\n",
    "    loss = 'categorical_crossentropy',\n",
    "    optimizer = 'adam',\n",
    "    metrics = ['accuracy']\n",
    ")"
   ]
  },
  {
   "cell_type": "markdown",
   "id": "df6a123c",
   "metadata": {},
   "source": [
    "# 3. Model Fitting"
   ]
  },
  {
   "cell_type": "markdown",
   "id": "25bc7a45",
   "metadata": {},
   "source": [
    "## Import early stops"
   ]
  },
  {
   "cell_type": "code",
   "execution_count": 35,
   "id": "e0b5ec0f",
   "metadata": {},
   "outputs": [],
   "source": [
    "from tensorflow.keras.callbacks import EarlyStopping\n",
    "stop_the_train = EarlyStopping(monitor = 'val_loss', patience = 2)"
   ]
  },
  {
   "cell_type": "markdown",
   "id": "81b3a674",
   "metadata": {},
   "source": [
    "## Input data into model\n"
   ]
  },
  {
   "cell_type": "code",
   "execution_count": 36,
   "id": "9682fc29",
   "metadata": {},
   "outputs": [
    {
     "name": "stdout",
     "output_type": "stream",
     "text": [
      "Epoch 1/20\n",
      "1020/1020 - 128s - loss: 1.0551 - accuracy: 0.6850 - val_loss: 0.3101 - val_accuracy: 0.8997 - 128s/epoch - 126ms/step\n",
      "Epoch 2/20\n",
      "1020/1020 - 128s - loss: 0.1733 - accuracy: 0.9459 - val_loss: 0.1132 - val_accuracy: 0.9641 - 128s/epoch - 126ms/step\n",
      "Epoch 3/20\n",
      "1020/1020 - 129s - loss: 0.0834 - accuracy: 0.9740 - val_loss: 0.0685 - val_accuracy: 0.9788 - 129s/epoch - 127ms/step\n",
      "Epoch 4/20\n",
      "1020/1020 - 133s - loss: 0.0564 - accuracy: 0.9826 - val_loss: 0.0484 - val_accuracy: 0.9853 - 133s/epoch - 131ms/step\n",
      "Epoch 5/20\n",
      "1020/1020 - 130s - loss: 0.0423 - accuracy: 0.9870 - val_loss: 0.0407 - val_accuracy: 0.9885 - 130s/epoch - 127ms/step\n",
      "Epoch 6/20\n",
      "1020/1020 - 128s - loss: 0.0357 - accuracy: 0.9886 - val_loss: 0.0472 - val_accuracy: 0.9878 - 128s/epoch - 125ms/step\n",
      "Epoch 7/20\n",
      "1020/1020 - 131s - loss: 0.0305 - accuracy: 0.9907 - val_loss: 0.0419 - val_accuracy: 0.9863 - 131s/epoch - 129ms/step\n"
     ]
    },
    {
     "data": {
      "text/plain": [
       "<keras.callbacks.History at 0x21263fc3220>"
      ]
     },
     "execution_count": 36,
     "metadata": {},
     "output_type": "execute_result"
    }
   ],
   "source": [
    "# The part where the computer does all the work :)\n",
    "model.fit(\n",
    "    xtrain, ycat_train,\n",
    "    epochs=20,\n",
    "    batch_size=64,\n",
    "    verbose=2,\n",
    "    validation_data=(xtest, ycat_test),\n",
    "    callbacks=[stop_the_train]\n",
    ")"
   ]
  },
  {
   "cell_type": "markdown",
   "id": "49411a99",
   "metadata": {},
   "source": [
    "## Metrics\n",
    "\n"
   ]
  },
  {
   "cell_type": "code",
   "execution_count": 37,
   "id": "ade238ee",
   "metadata": {},
   "outputs": [
    {
     "data": {
      "text/html": [
       "<div>\n",
       "<style scoped>\n",
       "    .dataframe tbody tr th:only-of-type {\n",
       "        vertical-align: middle;\n",
       "    }\n",
       "\n",
       "    .dataframe tbody tr th {\n",
       "        vertical-align: top;\n",
       "    }\n",
       "\n",
       "    .dataframe thead th {\n",
       "        text-align: right;\n",
       "    }\n",
       "</style>\n",
       "<table border=\"1\" class=\"dataframe\">\n",
       "  <thead>\n",
       "    <tr style=\"text-align: right;\">\n",
       "      <th></th>\n",
       "      <th>loss</th>\n",
       "      <th>accuracy</th>\n",
       "      <th>val_loss</th>\n",
       "      <th>val_accuracy</th>\n",
       "    </tr>\n",
       "  </thead>\n",
       "  <tbody>\n",
       "    <tr>\n",
       "      <th>0</th>\n",
       "      <td>1.055053</td>\n",
       "      <td>0.684965</td>\n",
       "      <td>0.310097</td>\n",
       "      <td>0.899678</td>\n",
       "    </tr>\n",
       "    <tr>\n",
       "      <th>1</th>\n",
       "      <td>0.173339</td>\n",
       "      <td>0.945916</td>\n",
       "      <td>0.113231</td>\n",
       "      <td>0.964092</td>\n",
       "    </tr>\n",
       "    <tr>\n",
       "      <th>2</th>\n",
       "      <td>0.083351</td>\n",
       "      <td>0.973992</td>\n",
       "      <td>0.068547</td>\n",
       "      <td>0.978759</td>\n",
       "    </tr>\n",
       "    <tr>\n",
       "      <th>3</th>\n",
       "      <td>0.056428</td>\n",
       "      <td>0.982559</td>\n",
       "      <td>0.048363</td>\n",
       "      <td>0.985287</td>\n",
       "    </tr>\n",
       "    <tr>\n",
       "      <th>4</th>\n",
       "      <td>0.042281</td>\n",
       "      <td>0.987050</td>\n",
       "      <td>0.040706</td>\n",
       "      <td>0.988506</td>\n",
       "    </tr>\n",
       "    <tr>\n",
       "      <th>5</th>\n",
       "      <td>0.035705</td>\n",
       "      <td>0.988644</td>\n",
       "      <td>0.047202</td>\n",
       "      <td>0.987816</td>\n",
       "    </tr>\n",
       "    <tr>\n",
       "      <th>6</th>\n",
       "      <td>0.030486</td>\n",
       "      <td>0.990697</td>\n",
       "      <td>0.041935</td>\n",
       "      <td>0.986253</td>\n",
       "    </tr>\n",
       "  </tbody>\n",
       "</table>\n",
       "</div>"
      ],
      "text/plain": [
       "       loss  accuracy  val_loss  val_accuracy\n",
       "0  1.055053  0.684965  0.310097      0.899678\n",
       "1  0.173339  0.945916  0.113231      0.964092\n",
       "2  0.083351  0.973992  0.068547      0.978759\n",
       "3  0.056428  0.982559  0.048363      0.985287\n",
       "4  0.042281  0.987050  0.040706      0.988506\n",
       "5  0.035705  0.988644  0.047202      0.987816\n",
       "6  0.030486  0.990697  0.041935      0.986253"
      ]
     },
     "execution_count": 37,
     "metadata": {},
     "output_type": "execute_result"
    }
   ],
   "source": [
    "# Creating a table for the loss/acc\n",
    "pd.DataFrame(model.history.history)"
   ]
  },
  {
   "cell_type": "code",
   "execution_count": 39,
   "id": "86b054c8",
   "metadata": {},
   "outputs": [
    {
     "data": {
      "image/png": "[encoded data removed]",
      "text/plain": [
       "<Figure size 640x480 with 1 Axes>"
      ]
     },
     "metadata": {},
     "output_type": "display_data"
    },
    {
     "data": {
      "image/png": "[encoded data removed]",
      "text/plain": [
       "<Figure size 640x480 with 1 Axes>"
      ]
     },
     "metadata": {},
     "output_type": "display_data"
    }
   ],
   "source": [
    "# visualization of loss and accuracy\n",
    "pd.DataFrame(model.history.history)[['loss', 'val_loss']].plot()\n",
    "pd.DataFrame(model.history.history)[['accuracy', 'val_accuracy']].plot()\n",
    "plt.show()"
   ]
  },
  {
   "cell_type": "markdown",
   "id": "c3655253",
   "metadata": {},
   "source": [
    "# 4. Model Validation"
   ]
  },
  {
   "cell_type": "code",
   "execution_count": 41,
   "id": "bcb2c327",
   "metadata": {},
   "outputs": [
    {
     "name": "stdout",
     "output_type": "stream",
     "text": [
      "680/680 [==============================] - 11s 16ms/step\n"
     ]
    }
   ],
   "source": [
    "# Making Predictions\n",
    "predict = np.argmax(model.predict(xtest), axis=-1)"
   ]
  },
  {
   "cell_type": "markdown",
   "id": "53aba86c",
   "metadata": {},
   "source": [
    "## Testing against the test response"
   ]
  },
  {
   "cell_type": "code",
   "execution_count": 42,
   "id": "e15601a7",
   "metadata": {},
   "outputs": [
    {
     "name": "stdout",
     "output_type": "stream",
     "text": [
      "              precision    recall  f1-score   support\n",
      "\n",
      "           0       1.00      0.99      0.99       750\n",
      "           1       0.99      1.00      1.00       750\n",
      "           2       1.00      0.95      0.97       750\n",
      "           3       0.97      1.00      0.98       750\n",
      "           4       0.99      0.99      0.99       750\n",
      "           5       1.00      1.00      1.00       750\n",
      "           6       0.97      0.99      0.98       750\n",
      "           7       0.99      1.00      0.99       750\n",
      "           8       1.00      0.99      0.99       750\n",
      "           9       1.00      0.99      1.00       750\n",
      "          10       0.99      1.00      0.99       750\n",
      "          11       1.00      1.00      1.00       750\n",
      "          12       0.99      0.99      0.99       750\n",
      "          13       0.99      0.99      0.99       750\n",
      "          14       0.96      1.00      0.98       750\n",
      "          15       1.00      1.00      1.00       750\n",
      "          16       0.98      1.00      0.99       750\n",
      "          17       1.00      0.92      0.96       750\n",
      "          18       0.98      0.99      0.99       750\n",
      "          19       0.98      0.99      0.98       750\n",
      "          20       0.95      0.99      0.97       750\n",
      "          21       0.97      0.97      0.97       750\n",
      "          22       0.98      0.99      0.99       750\n",
      "          23       0.99      0.98      0.98       750\n",
      "          24       1.00      0.92      0.96       750\n",
      "          25       0.96      1.00      0.98       750\n",
      "          26       1.00      0.98      0.99       750\n",
      "          27       0.99      0.99      0.99       750\n",
      "          28       1.00      1.00      1.00       750\n",
      "\n",
      "    accuracy                           0.99     21750\n",
      "   macro avg       0.99      0.99      0.99     21750\n",
      "weighted avg       0.99      0.99      0.99     21750\n",
      "\n"
     ]
    }
   ],
   "source": [
    "from sklearn.metrics import classification_report\n",
    "print(classification_report(ytest, predict))"
   ]
  },
  {
   "cell_type": "markdown",
   "id": "5eb14fda",
   "metadata": {},
   "source": [
    "## Confusion matrix"
   ]
  },
  {
   "cell_type": "code",
   "execution_count": 43,
   "id": "5ef0cf81",
   "metadata": {},
   "outputs": [
    {
     "data": {
      "image/png": "[encoded data removed]",
      "text/plain": [
       "<Figure size 1200x1200 with 2 Axes>"
      ]
     },
     "metadata": {},
     "output_type": "display_data"
    }
   ],
   "source": [
    "from sklearn.metrics import confusion_matrix\n",
    "plt.figure(figsize=(12,12))\n",
    "sns.heatmap(confusion_matrix(ytest, predict))\n",
    "plt.show()"
   ]
  },
  {
   "cell_type": "markdown",
   "id": "905f3b25",
   "metadata": {},
   "source": [
    "# iii. Save Model"
   ]
  },
  {
   "cell_type": "code",
   "execution_count": 44,
   "id": "48f917a1",
   "metadata": {},
   "outputs": [],
   "source": [
    "from keras.models import load_model\n",
    "model.save('ASLtranslator.h5')"
   ]
  }
 ],
 "metadata": {
  "kernelspec": {
   "display_name": "Python 3.8.9 64-bit",
   "language": "python",
   "name": "python3"
  },
  "language_info": {
   "codemirror_mode": {
    "name": "ipython",
    "version": 3
   },
   "file_extension": ".py",
   "mimetype": "text/x-python",
   "name": "python",
   "nbconvert_exporter": "python",
   "pygments_lexer": "ipython3",
   "version": "3.8.9"
  },
  "vscode": {
   "interpreter": {
    "hash": "31f2aee4e71d21fbe5cf8b01ff0e069b9275f58929596ceb00d14d90e3e16cd6"
   }
  }
 },
 "nbformat": 4,
 "nbformat_minor": 5
}
